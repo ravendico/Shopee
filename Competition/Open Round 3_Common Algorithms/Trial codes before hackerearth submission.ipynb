{
 "cells": [
  {
   "cell_type": "code",
   "execution_count": 1,
   "metadata": {},
   "outputs": [],
   "source": [
    "import pandas as pd\n",
    "import numpy as np\n",
    "import itertools"
   ]
  },
  {
   "cell_type": "markdown",
   "metadata": {},
   "source": [
    "Email: bata.patricia@gmail.com\n",
    "Password: 31gbforthewin"
   ]
  },
  {
   "cell_type": "markdown",
   "metadata": {},
   "source": [
    "# Gets the values immediately per input row"
   ]
  },
  {
   "cell_type": "code",
   "execution_count": 98,
   "metadata": {},
   "outputs": [],
   "source": [
    "def conv_int(x):\n",
    "    return list(map(int, x.split())) \n",
    "\n",
    "#computing values for one columns\n",
    "def val(a, b, j):\n",
    "    return list(np.arange(1, j+1) *a + b)\n",
    "#     return [a*j_**2 + b for j_ in range(1,j+1)]\n",
    "\n",
    "\n",
    "def func():\n",
    "    n, m, k = conv_int(input())\n",
    "    values = []\n",
    "    while n>0:\n",
    "        a, b, j = conv_int(input())\n",
    "        values.append(val(a,b,j))\n",
    "        n -= 1\n",
    "    values = list(itertools.chain.from_iterable(values))\n",
    "    return print(len([i for i in list(itertools.permutations(values, m)) if sum(i)%k==0]) + len([i for i in values if i*m%k==0])%1000000007)"
   ]
  },
  {
   "cell_type": "code",
   "execution_count": null,
   "metadata": {},
   "outputs": [],
   "source": [
    "# try coding in c++"
   ]
  },
  {
   "cell_type": "code",
   "execution_count": null,
   "metadata": {},
   "outputs": [],
   "source": [
    "#include <iostream>\n",
    "using namespace std;\n",
    "\n",
    "int main() {\n",
    "    int n,m,k;\n",
    "    cin >> n >> m >> k;\n",
    "    \n",
    "    for (int i = 0; i < n; i++) {\n",
    "        int a,b,j;\n",
    "        cin >> a >> b >> j\n",
    "        int arr[j]\n",
    "        \n",
    "        for (int i = 0; i < j; i++)\n",
    "        {\n",
    "            arr[i] = (i + 1)**2*a + b;\n",
    "        }\n",
    "        \n",
    "        \n",
    "        \n",
    "    }\n",
    "    \n",
    "    return 0;\n",
    "}"
   ]
  },
  {
   "cell_type": "code",
   "execution_count": 92,
   "metadata": {},
   "outputs": [],
   "source": [
    "n, m, k = conv_int('3 2 6')"
   ]
  },
  {
   "cell_type": "code",
   "execution_count": 90,
   "metadata": {},
   "outputs": [
    {
     "data": {
      "text/plain": [
       "[1, 2, 3]"
      ]
     },
     "execution_count": 90,
     "metadata": {},
     "output_type": "execute_result"
    }
   ],
   "source": [
    "[i for i in range(1, 4)]"
   ]
  },
  {
   "cell_type": "markdown",
   "metadata": {},
   "source": [
    "# Get first the entire dataframe??"
   ]
  },
  {
   "cell_type": "code",
   "execution_count": 113,
   "metadata": {},
   "outputs": [],
   "source": [
    "def val_v2(x):\n",
    "    return [x[0]*j_**2 + x[1] for j_ in range(1,x[2]+1)]\n",
    "\n",
    "def conv_int(x):\n",
    "    return list(map(int, x.split())) \n",
    "\n",
    "def try_2():\n",
    "    n, m, k = conv_int(input())\n",
    "\n",
    "    def get_df(n):\n",
    "        array = []\n",
    "        while n>0:\n",
    "            array.append(conv_int(input()))\n",
    "            n-=1\n",
    "        return pd.DataFrame(array)\n",
    "\n",
    "    values = get_df(n).apply(val_v2, axis=1)\n",
    "    values = list(itertools.chain.from_iterable(trial))\n",
    "\n",
    "    return print(len([i for i in list(itertools.product(values, m)) if sum(i)%k==0])%1000000007)"
   ]
  },
  {
   "cell_type": "code",
   "execution_count": 187,
   "metadata": {},
   "outputs": [
    {
     "data": {
      "text/plain": [
       "[3, 2, 2]"
      ]
     },
     "execution_count": 187,
     "metadata": {},
     "output_type": "execute_result"
    }
   ],
   "source": [
    "list(itertools.chain.from_iterable([[3,2], [2]]))"
   ]
  },
  {
   "cell_type": "code",
   "execution_count": 190,
   "metadata": {},
   "outputs": [
    {
     "data": {
      "text/plain": [
       "[(3, 3)]"
      ]
     },
     "execution_count": 190,
     "metadata": {},
     "output_type": "execute_result"
    }
   ],
   "source": [
    "[i for i in itertools.product(itertools.chain.from_iterable([[3,2], [2]]), repeat=2) if sum(i)==6]"
   ]
  },
  {
   "cell_type": "code",
   "execution_count": 180,
   "metadata": {},
   "outputs": [
    {
     "data": {
      "text/plain": [
       "[3, 6, 11]"
      ]
     },
     "execution_count": 180,
     "metadata": {},
     "output_type": "execute_result"
    }
   ],
   "source": [
    "list(np.arange(1, 3+1)**2 *1 + 2)"
   ]
  },
  {
   "cell_type": "code",
   "execution_count": 175,
   "metadata": {},
   "outputs": [
    {
     "data": {
      "text/plain": [
       "[3, 3, 3, 6, 11, 7]"
      ]
     },
     "execution_count": 175,
     "metadata": {},
     "output_type": "execute_result"
    }
   ],
   "source": [
    "values"
   ]
  },
  {
   "cell_type": "code",
   "execution_count": 177,
   "metadata": {},
   "outputs": [
    {
     "data": {
      "text/plain": [
       "<itertools.product at 0x2486c79b630>"
      ]
     },
     "execution_count": 177,
     "metadata": {},
     "output_type": "execute_result"
    }
   ],
   "source": [
    "itertools.product(values, repeat=2)"
   ]
  },
  {
   "cell_type": "code",
   "execution_count": 178,
   "metadata": {},
   "outputs": [
    {
     "data": {
      "text/plain": [
       "12"
      ]
     },
     "execution_count": 178,
     "metadata": {},
     "output_type": "execute_result"
    }
   ],
   "source": [
    "len([i for i in list(itertools.product(values, repeat=m)) if sum(i)%k==0])"
   ]
  },
  {
   "cell_type": "code",
   "execution_count": 164,
   "metadata": {},
   "outputs": [
    {
     "ename": "TypeError",
     "evalue": "'int' object is not iterable",
     "output_type": "error",
     "traceback": [
      "\u001b[1;31m---------------------------------------------------------------------------\u001b[0m",
      "\u001b[1;31mTypeError\u001b[0m                                 Traceback (most recent call last)",
      "\u001b[1;32m<ipython-input-164-a1e539a60aaa>\u001b[0m in \u001b[0;36m<module>\u001b[1;34m\u001b[0m\n\u001b[1;32m----> 1\u001b[1;33m \u001b[0mprint\u001b[0m\u001b[1;33m(\u001b[0m\u001b[0mlen\u001b[0m\u001b[1;33m(\u001b[0m\u001b[1;33m[\u001b[0m\u001b[0mi\u001b[0m \u001b[1;32mfor\u001b[0m \u001b[0mi\u001b[0m \u001b[1;32min\u001b[0m \u001b[0mlist\u001b[0m\u001b[1;33m(\u001b[0m\u001b[0mitertools\u001b[0m\u001b[1;33m.\u001b[0m\u001b[0mproduct\u001b[0m\u001b[1;33m(\u001b[0m\u001b[0mvalues\u001b[0m\u001b[1;33m,\u001b[0m \u001b[0mm\u001b[0m\u001b[1;33m)\u001b[0m\u001b[1;33m)\u001b[0m \u001b[1;32mif\u001b[0m \u001b[0msum\u001b[0m\u001b[1;33m(\u001b[0m\u001b[0mi\u001b[0m\u001b[1;33m)\u001b[0m\u001b[1;33m%\u001b[0m\u001b[0mk\u001b[0m\u001b[1;33m==\u001b[0m\u001b[1;36m0\u001b[0m\u001b[1;33m]\u001b[0m\u001b[1;33m)\u001b[0m\u001b[1;33m%\u001b[0m\u001b[1;36m1000000007\u001b[0m\u001b[1;33m)\u001b[0m\u001b[1;33m\u001b[0m\u001b[1;33m\u001b[0m\u001b[0m\n\u001b[0m",
      "\u001b[1;31mTypeError\u001b[0m: 'int' object is not iterable"
     ]
    }
   ],
   "source": [
    "print(len([i for i in list(itertools.product(values, m)) if sum(i)%k==0])%1000000007)"
   ]
  },
  {
   "cell_type": "code",
   "execution_count": 162,
   "metadata": {},
   "outputs": [
    {
     "data": {
      "text/plain": [
       "[3, 3, 3, 6, 11, 7]"
      ]
     },
     "execution_count": 162,
     "metadata": {},
     "output_type": "execute_result"
    }
   ],
   "source": [
    "values"
   ]
  },
  {
   "cell_type": "code",
   "execution_count": 130,
   "metadata": {},
   "outputs": [],
   "source": [
    "t = 1\n",
    "case = 1"
   ]
  },
  {
   "cell_type": "code",
   "execution_count": 163,
   "metadata": {},
   "outputs": [
    {
     "data": {
      "text/plain": [
       "[(3, 3),\n",
       " (3, 3),\n",
       " (3, 3),\n",
       " (3, 6),\n",
       " (3, 11),\n",
       " (3, 7),\n",
       " (3, 3),\n",
       " (3, 3),\n",
       " (3, 3),\n",
       " (3, 6),\n",
       " (3, 11),\n",
       " (3, 7),\n",
       " (3, 3),\n",
       " (3, 3),\n",
       " (3, 3),\n",
       " (3, 6),\n",
       " (3, 11),\n",
       " (3, 7),\n",
       " (6, 3),\n",
       " (6, 3),\n",
       " (6, 3),\n",
       " (6, 6),\n",
       " (6, 11),\n",
       " (6, 7),\n",
       " (11, 3),\n",
       " (11, 3),\n",
       " (11, 3),\n",
       " (11, 6),\n",
       " (11, 11),\n",
       " (11, 7),\n",
       " (7, 3),\n",
       " (7, 3),\n",
       " (7, 3),\n",
       " (7, 6),\n",
       " (7, 11),\n",
       " (7, 7)]"
      ]
     },
     "execution_count": 163,
     "metadata": {},
     "output_type": "execute_result"
    }
   ],
   "source": [
    "[p for p in itertools.product(values, repeat=2)]"
   ]
  },
  {
   "cell_type": "code",
   "execution_count": 109,
   "metadata": {},
   "outputs": [],
   "source": [
    "values = list(itertools.chain.from_iterable(trial))"
   ]
  },
  {
   "cell_type": "code",
   "execution_count": 110,
   "metadata": {
    "scrolled": true
   },
   "outputs": [
    {
     "data": {
      "text/plain": [
       "[3, 3, 3, 6, 11, 7]"
      ]
     },
     "execution_count": 110,
     "metadata": {},
     "output_type": "execute_result"
    }
   ],
   "source": [
    "values"
   ]
  },
  {
   "cell_type": "code",
   "execution_count": 111,
   "metadata": {
    "scrolled": true
   },
   "outputs": [
    {
     "name": "stdout",
     "output_type": "stream",
     "text": [
      "12\n"
     ]
    }
   ],
   "source": [
    "print(len([i for i in list(itertools.permutations(values, m)) if sum(i)%k==0]) + len([i for i in values if i*m%k==0]))"
   ]
  },
  {
   "cell_type": "markdown",
   "metadata": {},
   "source": [
    "# CASE 1"
   ]
  },
  {
   "cell_type": "code",
   "execution_count": null,
   "metadata": {},
   "outputs": [],
   "source": [
    "t = int(input())\n",
    "print('Case 1:')\n",
    "n, q = [i.split() for i in input().split()]\n",
    "t = int(strings[0][0])\n",
    "lines = 1\n",
    "print(strings)\n",
    "for case in range(1, t):\n",
    "    n, q = int(strings[lines][0]), int(strings[lines][1])\n",
    "    items = [(' ').join(i) for i in strings[lines+1:lines+1+n]]\n",
    "    queries = [(' ').join(i) for i in strings[lines+n+1:lines+1+n+q]]\n",
    "    lines += n+q+1\n",
    "    print('Case {}:'.format(case+1))\n",
    "    for t_query in queries:\n",
    "        words = (len([set(listyyy.split()).intersection(set(t_query.split())) for listyyy in items if len(set(listyyy.split()).intersection(set(t_query.split()))) == len(t_query.split())]))\n",
    "        phrase = (len([x for x in items if t_query in x]))\n",
    "        print(min(words,phrase))"
   ]
  },
  {
   "cell_type": "code",
   "execution_count": null,
   "metadata": {},
   "outputs": [],
   "source": [
    "t = int(input())\n",
    "while t>0:\n",
    "    case = 1\n",
    "    print('Case {}:'.format(case))\n",
    "    n, q = conv_int(input())\n",
    "    items = []\n",
    "    queries = []\n",
    "    [items.append(input()) for i in range(n)]\n",
    "    [queries.append(input()) for i in range(q)]\n",
    "    for q in queries:\n",
    "        print(len([i for i in items if q in i]))\n",
    "    case+=1\n",
    "    "
   ]
  },
  {
   "cell_type": "code",
   "execution_count": 158,
   "metadata": {},
   "outputs": [],
   "source": [
    "def conv_int(x):\n",
    "    return list(map(int, x.split())) \n",
    "\n",
    "def intersection(lst1, lst2): \n",
    "    return [value for value in lst1 if value in lst2] \n",
    "\n",
    "def get_len(x):\n",
    "    splitt = x.split()\n",
    "    return len([i for i in items if (x in i) & (len(intersection(splitt, i.split()))==len(splitt))])\n",
    "\n",
    "# t = int(input())\n",
    "# case = 1\n",
    "# while t>0:\n",
    "#     print('Case {}:'.format(case))\n",
    "#     n, q = conv_int(input())\n",
    "#     items = []\n",
    "#     queries = []\n",
    "#     [items.append(input()) for i in range(n)]\n",
    "#     [queries.append(input()) for i in range(q)]\n",
    "#     for q in queries:\n",
    "#         print(len([i for i in items if (q in i) & len(intersection(q.split(), i.split()))>len(q.split())]))\n",
    "#     case+=1\n",
    "#     t-=1"
   ]
  },
  {
   "cell_type": "code",
   "execution_count": 132,
   "metadata": {},
   "outputs": [
    {
     "name": "stdout",
     "output_type": "stream",
     "text": [
      "Case 1:\n",
      "3 6\n",
      "apple lettuce limes avocado\n",
      "onion cranberries apple limes\n",
      "escarole corn28corn apple lettuce limes avocado\n",
      "limes avocado\n",
      "apple lettuce\n",
      "limes\n",
      "apple\n",
      "app\n",
      "apple limes\n"
     ]
    }
   ],
   "source": [
    "while t>0:\n",
    "    print('Case {}:'.format(case))\n",
    "    n, q = conv_int(input())\n",
    "    items = []\n",
    "    queries = []\n",
    "    [items.append(input()) for i in range(n)]\n",
    "    [queries.append(input()) for i in range(q)]\n",
    "#     for q in queries:\n",
    "#         print(len([i for i in items if (q in i) & len(intersection(q.split(), i.split()))>len(q.split())]))\n",
    "    case+=1\n",
    "    t-=1"
   ]
  },
  {
   "cell_type": "code",
   "execution_count": 133,
   "metadata": {},
   "outputs": [
    {
     "data": {
      "text/plain": [
       "['apple lettuce limes avocado',\n",
       " 'onion cranberries apple limes',\n",
       " 'escarole corn28corn apple lettuce limes avocado']"
      ]
     },
     "execution_count": 133,
     "metadata": {},
     "output_type": "execute_result"
    }
   ],
   "source": [
    "items"
   ]
  },
  {
   "cell_type": "code",
   "execution_count": 138,
   "metadata": {},
   "outputs": [
    {
     "data": {
      "text/plain": [
       "'app'"
      ]
     },
     "execution_count": 138,
     "metadata": {},
     "output_type": "execute_result"
    }
   ],
   "source": [
    "queries[4]"
   ]
  },
  {
   "cell_type": "code",
   "execution_count": 139,
   "metadata": {},
   "outputs": [
    {
     "data": {
      "text/plain": [
       "['apple lettuce limes avocado',\n",
       " 'onion cranberries apple limes',\n",
       " 'escarole corn28corn apple lettuce limes avocado']"
      ]
     },
     "execution_count": 139,
     "metadata": {},
     "output_type": "execute_result"
    }
   ],
   "source": [
    "[i for i in items if (queries[4] in i)]"
   ]
  },
  {
   "cell_type": "code",
   "execution_count": 141,
   "metadata": {},
   "outputs": [
    {
     "data": {
      "text/plain": [
       "['apple', 'lettuce', 'limes', 'avocado']"
      ]
     },
     "execution_count": 141,
     "metadata": {},
     "output_type": "execute_result"
    }
   ],
   "source": [
    "items[0].split()"
   ]
  },
  {
   "cell_type": "code",
   "execution_count": 144,
   "metadata": {},
   "outputs": [],
   "source": [
    "def intersection(lst1, lst2): \n",
    "    return [value for value in lst1 if value in lst2] \n"
   ]
  },
  {
   "cell_type": "code",
   "execution_count": 150,
   "metadata": {},
   "outputs": [
    {
     "data": {
      "text/plain": [
       "True"
      ]
     },
     "execution_count": 150,
     "metadata": {},
     "output_type": "execute_result"
    }
   ],
   "source": [
    "len(intersection(queries[0].split(), items[0].split()))==len(queries[0].split())"
   ]
  }
 ],
 "metadata": {
  "kernelspec": {
   "display_name": "Python 3",
   "language": "python",
   "name": "python3"
  },
  "language_info": {
   "codemirror_mode": {
    "name": "ipython",
    "version": 3
   },
   "file_extension": ".py",
   "mimetype": "text/x-python",
   "name": "python",
   "nbconvert_exporter": "python",
   "pygments_lexer": "ipython3",
   "version": "3.7.1"
  },
  "toc": {
   "base_numbering": 1,
   "nav_menu": {},
   "number_sections": true,
   "sideBar": true,
   "skip_h1_title": false,
   "title_cell": "Table of Contents",
   "title_sidebar": "Contents",
   "toc_cell": false,
   "toc_position": {},
   "toc_section_display": true,
   "toc_window_display": false
  }
 },
 "nbformat": 4,
 "nbformat_minor": 4
}
