{
 "cells": [
  {
   "cell_type": "code",
   "execution_count": 1,
   "metadata": {},
   "outputs": [],
   "source": [
    "import pandas as pd\n",
    "import numpy as np\n",
    "import itertools\n",
    "import os\n",
    "import networkx as nx\n",
    "import re\n",
    "from pprint import pprint\n",
    "from copy import deepcopy\n",
    "from itertools import product\n",
    "from time import time\n",
    "%matplotlib inline\n",
    "from collections import OrderedDict, defaultdict"
   ]
  },
  {
   "cell_type": "code",
   "execution_count": 139,
   "metadata": {},
   "outputs": [],
   "source": [
    "df = pd.read_csv(\"order_brush_order.csv\")"
   ]
  },
  {
   "cell_type": "code",
   "execution_count": 140,
   "metadata": {},
   "outputs": [],
   "source": [
    "df.event_time = pd.to_datetime(df.event_time)"
   ]
  },
  {
   "cell_type": "code",
   "execution_count": 141,
   "metadata": {},
   "outputs": [],
   "source": [
    "df = df.sort_values(by='event_time')"
   ]
  },
  {
   "cell_type": "code",
   "execution_count": 145,
   "metadata": {},
   "outputs": [
    {
     "data": {
      "text/plain": [
       "event_time           shopid   \n",
       "2019-12-27 00:01:13  147941492    2\n",
       "2019-12-27 00:02:36  26974701     2\n",
       "2019-12-27 00:02:39  147941492    2\n",
       "2019-12-27 00:02:47  147941492    2\n",
       "2019-12-27 00:03:22  147941492    2\n",
       "                                 ..\n",
       "2019-12-31 22:31:57  147941492    2\n",
       "2019-12-31 22:47:05  147941492    2\n",
       "2019-12-31 23:02:43  7190564      2\n",
       "2019-12-31 23:04:44  61556313     2\n",
       "2019-12-31 23:44:49  143281052    2\n",
       "Name: orderid, Length: 420, dtype: int64"
      ]
     },
     "execution_count": 145,
     "metadata": {},
     "output_type": "execute_result"
    }
   ],
   "source": [
    "df.groupby(by=['event_time', 'shopid']).orderid.count()[df.groupby(by=['event_time', 'shopid']).orderid.count()>1]"
   ]
  },
  {
   "cell_type": "code",
   "execution_count": 146,
   "metadata": {},
   "outputs": [],
   "source": [
    "df = df.set_index('event_time')"
   ]
  },
  {
   "cell_type": "code",
   "execution_count": 6,
   "metadata": {},
   "outputs": [
    {
     "data": {
      "text/plain": [
       "222750"
      ]
     },
     "execution_count": 6,
     "metadata": {},
     "output_type": "execute_result"
    }
   ],
   "source": [
    "df.orderid.nunique()"
   ]
  },
  {
   "cell_type": "code",
   "execution_count": 171,
   "metadata": {},
   "outputs": [],
   "source": [
    "my_unique = lambda x: len(np.unique(x))\n",
    "concentrate = lambda sample: sample.orderid.rolling('1H', closed='both').count()/sample.userid.rolling('1H', closed='both').apply(my_unique)\n",
    " \n",
    "def get_order_brushing_user(shopid):\n",
    "    sample = df.loc[df.shopid==shopid].copy(deep=True)\n",
    "    sample = sample.groupby(by='event_time').agg({\"orderid\":\"count\",\"userid\":\"count\"})\n",
    "    c_rate = concentrate(sample)\n",
    "    if sum(concentrate(sample)>=3)>0:        \n",
    "        sample['c_rate'] = list(concentrate(sample))\n",
    "#         prop = sample.groupby(by=['userid']).rolling('1H').orderid.count().div(sample.reset_index().groupby(by=\"event_time\").orderid.count().rolling('1H').sum(), level='event_time').reset_index()\n",
    "        brush_index = sample.loc[sample.c_rate>=3].index    \n",
    "        sample = pd.concat([sample.loc[(i-pd.Timedelta('1H')):i] for i in brush_index]).sort_index()\n",
    "#         prop = sample.groupby(by=['userid']).rolling('1H', closed='both').orderid.count().reset_index().groupby(by='userid').orderid.sum()/sample.rolling('1H', closed='both').orderid.count().sum()\n",
    "        prop= sample.groupby(by=['userid']).orderid.count()\n",
    "        return list(np.sort(list(prop[prop==prop.max()].index)))\n",
    "#         return list(prop[prop.event_time.isin(sample[sample.c_rate>=3].index) & (prop.orderid==prop.orderid.max())].userid)\n",
    "    else:\n",
    "        return '0'"
   ]
  },
  {
   "cell_type": "code",
   "execution_count": 180,
   "metadata": {},
   "outputs": [],
   "source": [
    "sample = df[df.shopid==147941492].reset_index()"
   ]
  },
  {
   "cell_type": "code",
   "execution_count": 177,
   "metadata": {},
   "outputs": [],
   "source": [
    "sample = sample.groupby(by='event_time').agg({\"orderid\":\"count\",\"userid\":\"count\"})"
   ]
  },
  {
   "cell_type": "code",
   "execution_count": 181,
   "metadata": {},
   "outputs": [
    {
     "data": {
      "text/plain": [
       "event_time\n",
       "2019-12-27 00:00:08    1\n",
       "2019-12-27 00:00:12    1\n",
       "2019-12-27 00:00:31    1\n",
       "2019-12-27 00:00:32    1\n",
       "2019-12-27 00:00:33    1\n",
       "                      ..\n",
       "2019-12-31 23:58:17    1\n",
       "2019-12-31 23:58:28    1\n",
       "2019-12-31 23:58:59    1\n",
       "2019-12-31 23:59:42    1\n",
       "2019-12-31 23:59:47    1\n",
       "Name: orderid, Length: 11388, dtype: int64"
      ]
     },
     "execution_count": 181,
     "metadata": {},
     "output_type": "execute_result"
    }
   ],
   "source": [
    "sample.groupby(by='event_time').orderid.count()"
   ]
  },
  {
   "cell_type": "code",
   "execution_count": 178,
   "metadata": {},
   "outputs": [
    {
     "data": {
      "text/plain": [
       "event_time\n",
       "2019-12-27 00:00:08     1.0\n",
       "2019-12-27 00:00:12     2.0\n",
       "2019-12-27 00:00:31     3.0\n",
       "2019-12-27 00:00:32     4.0\n",
       "2019-12-27 00:00:33     5.0\n",
       "                       ... \n",
       "2019-12-31 23:58:17    91.0\n",
       "2019-12-31 23:58:28    92.0\n",
       "2019-12-31 23:58:59    92.0\n",
       "2019-12-31 23:59:42    93.0\n",
       "2019-12-31 23:59:47    94.0\n",
       "Length: 11388, dtype: float64"
      ]
     },
     "execution_count": 178,
     "metadata": {},
     "output_type": "execute_result"
    }
   ],
   "source": [
    "concentrate(sample)"
   ]
  },
  {
   "cell_type": "code",
   "execution_count": 166,
   "metadata": {},
   "outputs": [
    {
     "ename": "ValueError",
     "evalue": "window must be an integer",
     "output_type": "error",
     "traceback": [
      "\u001b[1;31m---------------------------------------------------------------------------\u001b[0m",
      "\u001b[1;31mValueError\u001b[0m                                Traceback (most recent call last)",
      "\u001b[1;32m<ipython-input-166-6f4bd2b05664>\u001b[0m in \u001b[0;36m<module>\u001b[1;34m\u001b[0m\n\u001b[1;32m----> 1\u001b[1;33m \u001b[0msample\u001b[0m\u001b[1;33m[\u001b[0m\u001b[1;34m'c_rate'\u001b[0m\u001b[1;33m]\u001b[0m \u001b[1;33m=\u001b[0m \u001b[0mlist\u001b[0m\u001b[1;33m(\u001b[0m\u001b[0mconcentrate\u001b[0m\u001b[1;33m(\u001b[0m\u001b[0msample\u001b[0m\u001b[1;33m)\u001b[0m\u001b[1;33m)\u001b[0m\u001b[1;33m\u001b[0m\u001b[1;33m\u001b[0m\u001b[0m\n\u001b[0m",
      "\u001b[1;32m<ipython-input-164-801afca84c1a>\u001b[0m in \u001b[0;36m<lambda>\u001b[1;34m(sample)\u001b[0m\n\u001b[0;32m      1\u001b[0m \u001b[0mmy_unique\u001b[0m \u001b[1;33m=\u001b[0m \u001b[1;32mlambda\u001b[0m \u001b[0mx\u001b[0m\u001b[1;33m:\u001b[0m \u001b[0mlen\u001b[0m\u001b[1;33m(\u001b[0m\u001b[0mnp\u001b[0m\u001b[1;33m.\u001b[0m\u001b[0munique\u001b[0m\u001b[1;33m(\u001b[0m\u001b[0mx\u001b[0m\u001b[1;33m)\u001b[0m\u001b[1;33m)\u001b[0m\u001b[1;33m\u001b[0m\u001b[1;33m\u001b[0m\u001b[0m\n\u001b[1;32m----> 2\u001b[1;33m \u001b[0mconcentrate\u001b[0m \u001b[1;33m=\u001b[0m \u001b[1;32mlambda\u001b[0m \u001b[0msample\u001b[0m\u001b[1;33m:\u001b[0m \u001b[0msample\u001b[0m\u001b[1;33m.\u001b[0m\u001b[0morderid\u001b[0m\u001b[1;33m.\u001b[0m\u001b[0mrolling\u001b[0m\u001b[1;33m(\u001b[0m\u001b[1;34m'1H'\u001b[0m\u001b[1;33m,\u001b[0m \u001b[0mclosed\u001b[0m\u001b[1;33m=\u001b[0m\u001b[1;34m'both'\u001b[0m\u001b[1;33m)\u001b[0m\u001b[1;33m.\u001b[0m\u001b[0mcount\u001b[0m\u001b[1;33m(\u001b[0m\u001b[1;33m)\u001b[0m\u001b[1;33m/\u001b[0m\u001b[0msample\u001b[0m\u001b[1;33m.\u001b[0m\u001b[0muserid\u001b[0m\u001b[1;33m.\u001b[0m\u001b[0mrolling\u001b[0m\u001b[1;33m(\u001b[0m\u001b[1;34m'1H'\u001b[0m\u001b[1;33m,\u001b[0m \u001b[0mclosed\u001b[0m\u001b[1;33m=\u001b[0m\u001b[1;34m'both'\u001b[0m\u001b[1;33m)\u001b[0m\u001b[1;33m.\u001b[0m\u001b[0mapply\u001b[0m\u001b[1;33m(\u001b[0m\u001b[0mmy_unique\u001b[0m\u001b[1;33m)\u001b[0m\u001b[1;33m\u001b[0m\u001b[1;33m\u001b[0m\u001b[0m\n\u001b[0m\u001b[0;32m      3\u001b[0m \u001b[1;33m\u001b[0m\u001b[0m\n\u001b[0;32m      4\u001b[0m \u001b[1;32mdef\u001b[0m \u001b[0mget_order_brushing_user\u001b[0m\u001b[1;33m(\u001b[0m\u001b[0mshopid\u001b[0m\u001b[1;33m)\u001b[0m\u001b[1;33m:\u001b[0m\u001b[1;33m\u001b[0m\u001b[1;33m\u001b[0m\u001b[0m\n\u001b[0;32m      5\u001b[0m     \u001b[0msample\u001b[0m \u001b[1;33m=\u001b[0m \u001b[0mdf\u001b[0m\u001b[1;33m.\u001b[0m\u001b[0mloc\u001b[0m\u001b[1;33m[\u001b[0m\u001b[0mdf\u001b[0m\u001b[1;33m.\u001b[0m\u001b[0mshopid\u001b[0m\u001b[1;33m==\u001b[0m\u001b[0mshopid\u001b[0m\u001b[1;33m]\u001b[0m\u001b[1;33m.\u001b[0m\u001b[0mcopy\u001b[0m\u001b[1;33m(\u001b[0m\u001b[0mdeep\u001b[0m\u001b[1;33m=\u001b[0m\u001b[1;32mTrue\u001b[0m\u001b[1;33m)\u001b[0m\u001b[1;33m\u001b[0m\u001b[1;33m\u001b[0m\u001b[0m\n",
      "\u001b[1;32mC:\\ProgramData\\Anaconda3\\lib\\site-packages\\pandas\\core\\generic.py\u001b[0m in \u001b[0;36mrolling\u001b[1;34m(self, window, min_periods, center, win_type, on, axis, closed)\u001b[0m\n\u001b[0;32m  10382\u001b[0m                 \u001b[0mon\u001b[0m\u001b[1;33m=\u001b[0m\u001b[0mon\u001b[0m\u001b[1;33m,\u001b[0m\u001b[1;33m\u001b[0m\u001b[1;33m\u001b[0m\u001b[0m\n\u001b[0;32m  10383\u001b[0m                 \u001b[0maxis\u001b[0m\u001b[1;33m=\u001b[0m\u001b[0maxis\u001b[0m\u001b[1;33m,\u001b[0m\u001b[1;33m\u001b[0m\u001b[1;33m\u001b[0m\u001b[0m\n\u001b[1;32m> 10384\u001b[1;33m                 \u001b[0mclosed\u001b[0m\u001b[1;33m=\u001b[0m\u001b[0mclosed\u001b[0m\u001b[1;33m,\u001b[0m\u001b[1;33m\u001b[0m\u001b[1;33m\u001b[0m\u001b[0m\n\u001b[0m\u001b[0;32m  10385\u001b[0m             )\n\u001b[0;32m  10386\u001b[0m \u001b[1;33m\u001b[0m\u001b[0m\n",
      "\u001b[1;32mC:\\ProgramData\\Anaconda3\\lib\\site-packages\\pandas\\core\\window\\rolling.py\u001b[0m in \u001b[0;36m__init__\u001b[1;34m(self, obj, window, min_periods, center, win_type, axis, on, closed, **kwargs)\u001b[0m\n\u001b[0;32m     92\u001b[0m         \u001b[0mself\u001b[0m\u001b[1;33m.\u001b[0m\u001b[0mwin_freq\u001b[0m \u001b[1;33m=\u001b[0m \u001b[1;32mNone\u001b[0m\u001b[1;33m\u001b[0m\u001b[1;33m\u001b[0m\u001b[0m\n\u001b[0;32m     93\u001b[0m         \u001b[0mself\u001b[0m\u001b[1;33m.\u001b[0m\u001b[0maxis\u001b[0m \u001b[1;33m=\u001b[0m \u001b[0mobj\u001b[0m\u001b[1;33m.\u001b[0m\u001b[0m_get_axis_number\u001b[0m\u001b[1;33m(\u001b[0m\u001b[0maxis\u001b[0m\u001b[1;33m)\u001b[0m \u001b[1;32mif\u001b[0m \u001b[0maxis\u001b[0m \u001b[1;32mis\u001b[0m \u001b[1;32mnot\u001b[0m \u001b[1;32mNone\u001b[0m \u001b[1;32melse\u001b[0m \u001b[1;32mNone\u001b[0m\u001b[1;33m\u001b[0m\u001b[1;33m\u001b[0m\u001b[0m\n\u001b[1;32m---> 94\u001b[1;33m         \u001b[0mself\u001b[0m\u001b[1;33m.\u001b[0m\u001b[0mvalidate\u001b[0m\u001b[1;33m(\u001b[0m\u001b[1;33m)\u001b[0m\u001b[1;33m\u001b[0m\u001b[1;33m\u001b[0m\u001b[0m\n\u001b[0m\u001b[0;32m     95\u001b[0m         \u001b[0mself\u001b[0m\u001b[1;33m.\u001b[0m\u001b[0m_numba_func_cache\u001b[0m\u001b[1;33m:\u001b[0m \u001b[0mDict\u001b[0m\u001b[1;33m[\u001b[0m\u001b[0mOptional\u001b[0m\u001b[1;33m[\u001b[0m\u001b[0mstr\u001b[0m\u001b[1;33m]\u001b[0m\u001b[1;33m,\u001b[0m \u001b[0mCallable\u001b[0m\u001b[1;33m]\u001b[0m \u001b[1;33m=\u001b[0m \u001b[0mdict\u001b[0m\u001b[1;33m(\u001b[0m\u001b[1;33m)\u001b[0m\u001b[1;33m\u001b[0m\u001b[1;33m\u001b[0m\u001b[0m\n\u001b[0;32m     96\u001b[0m \u001b[1;33m\u001b[0m\u001b[0m\n",
      "\u001b[1;32mC:\\ProgramData\\Anaconda3\\lib\\site-packages\\pandas\\core\\window\\rolling.py\u001b[0m in \u001b[0;36mvalidate\u001b[1;34m(self)\u001b[0m\n\u001b[0;32m   1858\u001b[0m             \u001b[1;32mreturn\u001b[0m\u001b[1;33m\u001b[0m\u001b[1;33m\u001b[0m\u001b[0m\n\u001b[0;32m   1859\u001b[0m         \u001b[1;32melif\u001b[0m \u001b[1;32mnot\u001b[0m \u001b[0mis_integer\u001b[0m\u001b[1;33m(\u001b[0m\u001b[0mself\u001b[0m\u001b[1;33m.\u001b[0m\u001b[0mwindow\u001b[0m\u001b[1;33m)\u001b[0m\u001b[1;33m:\u001b[0m\u001b[1;33m\u001b[0m\u001b[1;33m\u001b[0m\u001b[0m\n\u001b[1;32m-> 1860\u001b[1;33m             \u001b[1;32mraise\u001b[0m \u001b[0mValueError\u001b[0m\u001b[1;33m(\u001b[0m\u001b[1;34m\"window must be an integer\"\u001b[0m\u001b[1;33m)\u001b[0m\u001b[1;33m\u001b[0m\u001b[1;33m\u001b[0m\u001b[0m\n\u001b[0m\u001b[0;32m   1861\u001b[0m         \u001b[1;32melif\u001b[0m \u001b[0mself\u001b[0m\u001b[1;33m.\u001b[0m\u001b[0mwindow\u001b[0m \u001b[1;33m<\u001b[0m \u001b[1;36m0\u001b[0m\u001b[1;33m:\u001b[0m\u001b[1;33m\u001b[0m\u001b[1;33m\u001b[0m\u001b[0m\n\u001b[0;32m   1862\u001b[0m             \u001b[1;32mraise\u001b[0m \u001b[0mValueError\u001b[0m\u001b[1;33m(\u001b[0m\u001b[1;34m\"window must be non-negative\"\u001b[0m\u001b[1;33m)\u001b[0m\u001b[1;33m\u001b[0m\u001b[1;33m\u001b[0m\u001b[0m\n",
      "\u001b[1;31mValueError\u001b[0m: window must be an integer"
     ]
    }
   ],
   "source": [
    "sample['c_rate'] = list(concentrate(sample))"
   ]
  },
  {
   "cell_type": "code",
   "execution_count": 163,
   "metadata": {},
   "outputs": [],
   "source": [
    "sample = sample.groupby(by='event_time').agg({\"orderid\":\"count\",\"userid\":\"count\"})"
   ]
  },
  {
   "cell_type": "code",
   "execution_count": 155,
   "metadata": {},
   "outputs": [
    {
     "data": {
      "text/html": [
       "<div>\n",
       "<style scoped>\n",
       "    .dataframe tbody tr th:only-of-type {\n",
       "        vertical-align: middle;\n",
       "    }\n",
       "\n",
       "    .dataframe tbody tr th {\n",
       "        vertical-align: top;\n",
       "    }\n",
       "\n",
       "    .dataframe thead th {\n",
       "        text-align: right;\n",
       "    }\n",
       "</style>\n",
       "<table border=\"1\" class=\"dataframe\">\n",
       "  <thead>\n",
       "    <tr style=\"text-align: right;\">\n",
       "      <th></th>\n",
       "      <th>event_time</th>\n",
       "      <th>orderid</th>\n",
       "      <th>shopid</th>\n",
       "      <th>userid</th>\n",
       "    </tr>\n",
       "  </thead>\n",
       "  <tbody>\n",
       "    <tr>\n",
       "      <th>0</th>\n",
       "      <td>2019-12-27 00:00:08</td>\n",
       "      <td>31075208826809</td>\n",
       "      <td>147941492</td>\n",
       "      <td>195903090</td>\n",
       "    </tr>\n",
       "    <tr>\n",
       "      <th>1</th>\n",
       "      <td>2019-12-27 00:00:12</td>\n",
       "      <td>31075212032449</td>\n",
       "      <td>147941492</td>\n",
       "      <td>210365192</td>\n",
       "    </tr>\n",
       "    <tr>\n",
       "      <th>2</th>\n",
       "      <td>2019-12-27 00:00:31</td>\n",
       "      <td>31075231334015</td>\n",
       "      <td>147941492</td>\n",
       "      <td>306545</td>\n",
       "    </tr>\n",
       "    <tr>\n",
       "      <th>3</th>\n",
       "      <td>2019-12-27 00:00:32</td>\n",
       "      <td>31075232254299</td>\n",
       "      <td>147941492</td>\n",
       "      <td>202519981</td>\n",
       "    </tr>\n",
       "    <tr>\n",
       "      <th>4</th>\n",
       "      <td>2019-12-27 00:00:33</td>\n",
       "      <td>31075232409868</td>\n",
       "      <td>147941492</td>\n",
       "      <td>200500884</td>\n",
       "    </tr>\n",
       "    <tr>\n",
       "      <th>5</th>\n",
       "      <td>2019-12-27 00:00:37</td>\n",
       "      <td>31075236524199</td>\n",
       "      <td>147941492</td>\n",
       "      <td>88862740</td>\n",
       "    </tr>\n",
       "    <tr>\n",
       "      <th>6</th>\n",
       "      <td>2019-12-27 00:00:40</td>\n",
       "      <td>31075240500903</td>\n",
       "      <td>147941492</td>\n",
       "      <td>86692729</td>\n",
       "    </tr>\n",
       "    <tr>\n",
       "      <th>7</th>\n",
       "      <td>2019-12-27 00:00:43</td>\n",
       "      <td>31075243964273</td>\n",
       "      <td>147941492</td>\n",
       "      <td>197551102</td>\n",
       "    </tr>\n",
       "    <tr>\n",
       "      <th>8</th>\n",
       "      <td>2019-12-27 00:00:47</td>\n",
       "      <td>31075247660252</td>\n",
       "      <td>147941492</td>\n",
       "      <td>178608922</td>\n",
       "    </tr>\n",
       "    <tr>\n",
       "      <th>9</th>\n",
       "      <td>2019-12-27 00:00:51</td>\n",
       "      <td>31075250193276</td>\n",
       "      <td>147941492</td>\n",
       "      <td>208222979</td>\n",
       "    </tr>\n",
       "    <tr>\n",
       "      <th>10</th>\n",
       "      <td>2019-12-27 00:00:55</td>\n",
       "      <td>31075254760572</td>\n",
       "      <td>147941492</td>\n",
       "      <td>147478511</td>\n",
       "    </tr>\n",
       "    <tr>\n",
       "      <th>11</th>\n",
       "      <td>2019-12-27 00:01:01</td>\n",
       "      <td>31075261318066</td>\n",
       "      <td>147941492</td>\n",
       "      <td>95722882</td>\n",
       "    </tr>\n",
       "    <tr>\n",
       "      <th>12</th>\n",
       "      <td>2019-12-27 00:01:10</td>\n",
       "      <td>31075269277642</td>\n",
       "      <td>147941492</td>\n",
       "      <td>211193885</td>\n",
       "    </tr>\n",
       "    <tr>\n",
       "      <th>13</th>\n",
       "      <td>2019-12-27 00:01:13</td>\n",
       "      <td>31075272234516</td>\n",
       "      <td>147941492</td>\n",
       "      <td>177600293</td>\n",
       "    </tr>\n",
       "    <tr>\n",
       "      <th>14</th>\n",
       "      <td>2019-12-27 00:01:13</td>\n",
       "      <td>31075273472710</td>\n",
       "      <td>147941492</td>\n",
       "      <td>161147839</td>\n",
       "    </tr>\n",
       "    <tr>\n",
       "      <th>15</th>\n",
       "      <td>2019-12-27 00:01:18</td>\n",
       "      <td>31075278621047</td>\n",
       "      <td>147941492</td>\n",
       "      <td>29775644</td>\n",
       "    </tr>\n",
       "    <tr>\n",
       "      <th>16</th>\n",
       "      <td>2019-12-27 00:01:19</td>\n",
       "      <td>31075279064598</td>\n",
       "      <td>147941492</td>\n",
       "      <td>90969356</td>\n",
       "    </tr>\n",
       "    <tr>\n",
       "      <th>17</th>\n",
       "      <td>2019-12-27 00:01:20</td>\n",
       "      <td>31075280380562</td>\n",
       "      <td>147941492</td>\n",
       "      <td>114543024</td>\n",
       "    </tr>\n",
       "    <tr>\n",
       "      <th>18</th>\n",
       "      <td>2019-12-27 00:01:35</td>\n",
       "      <td>31075295624201</td>\n",
       "      <td>147941492</td>\n",
       "      <td>195235808</td>\n",
       "    </tr>\n",
       "    <tr>\n",
       "      <th>19</th>\n",
       "      <td>2019-12-27 00:01:41</td>\n",
       "      <td>31075301058109</td>\n",
       "      <td>147941492</td>\n",
       "      <td>213566360</td>\n",
       "    </tr>\n",
       "    <tr>\n",
       "      <th>20</th>\n",
       "      <td>2019-12-27 00:01:46</td>\n",
       "      <td>31075306393433</td>\n",
       "      <td>147941492</td>\n",
       "      <td>161147839</td>\n",
       "    </tr>\n",
       "    <tr>\n",
       "      <th>21</th>\n",
       "      <td>2019-12-27 00:01:51</td>\n",
       "      <td>31075310128137</td>\n",
       "      <td>147941492</td>\n",
       "      <td>206022856</td>\n",
       "    </tr>\n",
       "    <tr>\n",
       "      <th>22</th>\n",
       "      <td>2019-12-27 00:01:52</td>\n",
       "      <td>31075312943144</td>\n",
       "      <td>147941492</td>\n",
       "      <td>147478511</td>\n",
       "    </tr>\n",
       "    <tr>\n",
       "      <th>23</th>\n",
       "      <td>2019-12-27 00:01:55</td>\n",
       "      <td>31075315956791</td>\n",
       "      <td>147941492</td>\n",
       "      <td>81741401</td>\n",
       "    </tr>\n",
       "    <tr>\n",
       "      <th>24</th>\n",
       "      <td>2019-12-27 00:02:10</td>\n",
       "      <td>31075330268286</td>\n",
       "      <td>147941492</td>\n",
       "      <td>198469511</td>\n",
       "    </tr>\n",
       "    <tr>\n",
       "      <th>25</th>\n",
       "      <td>2019-12-27 00:02:12</td>\n",
       "      <td>31075331174831</td>\n",
       "      <td>147941492</td>\n",
       "      <td>174947192</td>\n",
       "    </tr>\n",
       "    <tr>\n",
       "      <th>26</th>\n",
       "      <td>2019-12-27 00:02:20</td>\n",
       "      <td>31075339155597</td>\n",
       "      <td>147941492</td>\n",
       "      <td>12801</td>\n",
       "    </tr>\n",
       "    <tr>\n",
       "      <th>27</th>\n",
       "      <td>2019-12-27 00:02:24</td>\n",
       "      <td>31075344033531</td>\n",
       "      <td>147941492</td>\n",
       "      <td>25682125</td>\n",
       "    </tr>\n",
       "    <tr>\n",
       "      <th>28</th>\n",
       "      <td>2019-12-27 00:02:26</td>\n",
       "      <td>31075345324914</td>\n",
       "      <td>147941492</td>\n",
       "      <td>202906110</td>\n",
       "    </tr>\n",
       "    <tr>\n",
       "      <th>29</th>\n",
       "      <td>2019-12-27 00:02:36</td>\n",
       "      <td>31075355374173</td>\n",
       "      <td>147941492</td>\n",
       "      <td>21369443</td>\n",
       "    </tr>\n",
       "    <tr>\n",
       "      <th>30</th>\n",
       "      <td>2019-12-27 00:02:39</td>\n",
       "      <td>31075359585722</td>\n",
       "      <td>147941492</td>\n",
       "      <td>76737959</td>\n",
       "    </tr>\n",
       "    <tr>\n",
       "      <th>31</th>\n",
       "      <td>2019-12-27 00:02:39</td>\n",
       "      <td>31075358881126</td>\n",
       "      <td>147941492</td>\n",
       "      <td>147478511</td>\n",
       "    </tr>\n",
       "    <tr>\n",
       "      <th>32</th>\n",
       "      <td>2019-12-27 00:02:47</td>\n",
       "      <td>31075367025833</td>\n",
       "      <td>147941492</td>\n",
       "      <td>183349590</td>\n",
       "    </tr>\n",
       "    <tr>\n",
       "      <th>33</th>\n",
       "      <td>2019-12-27 00:02:47</td>\n",
       "      <td>31075366838827</td>\n",
       "      <td>147941492</td>\n",
       "      <td>86500515</td>\n",
       "    </tr>\n",
       "    <tr>\n",
       "      <th>34</th>\n",
       "      <td>2019-12-27 00:02:53</td>\n",
       "      <td>31075373959935</td>\n",
       "      <td>147941492</td>\n",
       "      <td>12758022</td>\n",
       "    </tr>\n",
       "    <tr>\n",
       "      <th>35</th>\n",
       "      <td>2019-12-27 00:02:54</td>\n",
       "      <td>31075373959938</td>\n",
       "      <td>147941492</td>\n",
       "      <td>2938138</td>\n",
       "    </tr>\n",
       "    <tr>\n",
       "      <th>36</th>\n",
       "      <td>2019-12-27 00:02:55</td>\n",
       "      <td>31075375026786</td>\n",
       "      <td>147941492</td>\n",
       "      <td>177600293</td>\n",
       "    </tr>\n",
       "    <tr>\n",
       "      <th>37</th>\n",
       "      <td>2019-12-27 00:02:56</td>\n",
       "      <td>31075376340062</td>\n",
       "      <td>147941492</td>\n",
       "      <td>103855740</td>\n",
       "    </tr>\n",
       "    <tr>\n",
       "      <th>38</th>\n",
       "      <td>2019-12-27 00:02:59</td>\n",
       "      <td>31075379679090</td>\n",
       "      <td>147941492</td>\n",
       "      <td>21043732</td>\n",
       "    </tr>\n",
       "    <tr>\n",
       "      <th>39</th>\n",
       "      <td>2019-12-27 00:03:06</td>\n",
       "      <td>31075385094167</td>\n",
       "      <td>147941492</td>\n",
       "      <td>16790491</td>\n",
       "    </tr>\n",
       "    <tr>\n",
       "      <th>40</th>\n",
       "      <td>2019-12-27 00:03:13</td>\n",
       "      <td>31075393541995</td>\n",
       "      <td>147941492</td>\n",
       "      <td>11937527</td>\n",
       "    </tr>\n",
       "    <tr>\n",
       "      <th>41</th>\n",
       "      <td>2019-12-27 00:03:22</td>\n",
       "      <td>31075402234544</td>\n",
       "      <td>147941492</td>\n",
       "      <td>177447401</td>\n",
       "    </tr>\n",
       "    <tr>\n",
       "      <th>42</th>\n",
       "      <td>2019-12-27 00:03:22</td>\n",
       "      <td>31075402511654</td>\n",
       "      <td>147941492</td>\n",
       "      <td>6559872</td>\n",
       "    </tr>\n",
       "    <tr>\n",
       "      <th>43</th>\n",
       "      <td>2019-12-27 00:03:33</td>\n",
       "      <td>31075412891618</td>\n",
       "      <td>147941492</td>\n",
       "      <td>144577136</td>\n",
       "    </tr>\n",
       "    <tr>\n",
       "      <th>44</th>\n",
       "      <td>2019-12-27 00:03:35</td>\n",
       "      <td>31075414155843</td>\n",
       "      <td>147941492</td>\n",
       "      <td>57162003</td>\n",
       "    </tr>\n",
       "    <tr>\n",
       "      <th>45</th>\n",
       "      <td>2019-12-27 00:03:45</td>\n",
       "      <td>31075425473383</td>\n",
       "      <td>147941492</td>\n",
       "      <td>84340427</td>\n",
       "    </tr>\n",
       "    <tr>\n",
       "      <th>46</th>\n",
       "      <td>2019-12-27 00:03:46</td>\n",
       "      <td>31075426319921</td>\n",
       "      <td>147941492</td>\n",
       "      <td>86500515</td>\n",
       "    </tr>\n",
       "    <tr>\n",
       "      <th>47</th>\n",
       "      <td>2019-12-27 00:03:55</td>\n",
       "      <td>31075434205505</td>\n",
       "      <td>147941492</td>\n",
       "      <td>53839610</td>\n",
       "    </tr>\n",
       "    <tr>\n",
       "      <th>48</th>\n",
       "      <td>2019-12-27 00:04:00</td>\n",
       "      <td>31075440740023</td>\n",
       "      <td>147941492</td>\n",
       "      <td>115627184</td>\n",
       "    </tr>\n",
       "    <tr>\n",
       "      <th>49</th>\n",
       "      <td>2019-12-27 00:04:15</td>\n",
       "      <td>31075455771154</td>\n",
       "      <td>147941492</td>\n",
       "      <td>203886830</td>\n",
       "    </tr>\n",
       "  </tbody>\n",
       "</table>\n",
       "</div>"
      ],
      "text/plain": [
       "            event_time         orderid     shopid     userid\n",
       "0  2019-12-27 00:00:08  31075208826809  147941492  195903090\n",
       "1  2019-12-27 00:00:12  31075212032449  147941492  210365192\n",
       "2  2019-12-27 00:00:31  31075231334015  147941492     306545\n",
       "3  2019-12-27 00:00:32  31075232254299  147941492  202519981\n",
       "4  2019-12-27 00:00:33  31075232409868  147941492  200500884\n",
       "5  2019-12-27 00:00:37  31075236524199  147941492   88862740\n",
       "6  2019-12-27 00:00:40  31075240500903  147941492   86692729\n",
       "7  2019-12-27 00:00:43  31075243964273  147941492  197551102\n",
       "8  2019-12-27 00:00:47  31075247660252  147941492  178608922\n",
       "9  2019-12-27 00:00:51  31075250193276  147941492  208222979\n",
       "10 2019-12-27 00:00:55  31075254760572  147941492  147478511\n",
       "11 2019-12-27 00:01:01  31075261318066  147941492   95722882\n",
       "12 2019-12-27 00:01:10  31075269277642  147941492  211193885\n",
       "13 2019-12-27 00:01:13  31075272234516  147941492  177600293\n",
       "14 2019-12-27 00:01:13  31075273472710  147941492  161147839\n",
       "15 2019-12-27 00:01:18  31075278621047  147941492   29775644\n",
       "16 2019-12-27 00:01:19  31075279064598  147941492   90969356\n",
       "17 2019-12-27 00:01:20  31075280380562  147941492  114543024\n",
       "18 2019-12-27 00:01:35  31075295624201  147941492  195235808\n",
       "19 2019-12-27 00:01:41  31075301058109  147941492  213566360\n",
       "20 2019-12-27 00:01:46  31075306393433  147941492  161147839\n",
       "21 2019-12-27 00:01:51  31075310128137  147941492  206022856\n",
       "22 2019-12-27 00:01:52  31075312943144  147941492  147478511\n",
       "23 2019-12-27 00:01:55  31075315956791  147941492   81741401\n",
       "24 2019-12-27 00:02:10  31075330268286  147941492  198469511\n",
       "25 2019-12-27 00:02:12  31075331174831  147941492  174947192\n",
       "26 2019-12-27 00:02:20  31075339155597  147941492      12801\n",
       "27 2019-12-27 00:02:24  31075344033531  147941492   25682125\n",
       "28 2019-12-27 00:02:26  31075345324914  147941492  202906110\n",
       "29 2019-12-27 00:02:36  31075355374173  147941492   21369443\n",
       "30 2019-12-27 00:02:39  31075359585722  147941492   76737959\n",
       "31 2019-12-27 00:02:39  31075358881126  147941492  147478511\n",
       "32 2019-12-27 00:02:47  31075367025833  147941492  183349590\n",
       "33 2019-12-27 00:02:47  31075366838827  147941492   86500515\n",
       "34 2019-12-27 00:02:53  31075373959935  147941492   12758022\n",
       "35 2019-12-27 00:02:54  31075373959938  147941492    2938138\n",
       "36 2019-12-27 00:02:55  31075375026786  147941492  177600293\n",
       "37 2019-12-27 00:02:56  31075376340062  147941492  103855740\n",
       "38 2019-12-27 00:02:59  31075379679090  147941492   21043732\n",
       "39 2019-12-27 00:03:06  31075385094167  147941492   16790491\n",
       "40 2019-12-27 00:03:13  31075393541995  147941492   11937527\n",
       "41 2019-12-27 00:03:22  31075402234544  147941492  177447401\n",
       "42 2019-12-27 00:03:22  31075402511654  147941492    6559872\n",
       "43 2019-12-27 00:03:33  31075412891618  147941492  144577136\n",
       "44 2019-12-27 00:03:35  31075414155843  147941492   57162003\n",
       "45 2019-12-27 00:03:45  31075425473383  147941492   84340427\n",
       "46 2019-12-27 00:03:46  31075426319921  147941492   86500515\n",
       "47 2019-12-27 00:03:55  31075434205505  147941492   53839610\n",
       "48 2019-12-27 00:04:00  31075440740023  147941492  115627184\n",
       "49 2019-12-27 00:04:15  31075455771154  147941492  203886830"
      ]
     },
     "execution_count": 155,
     "metadata": {},
     "output_type": "execute_result"
    }
   ],
   "source": [
    "sample.head(50)"
   ]
  },
  {
   "cell_type": "code",
   "execution_count": 149,
   "metadata": {},
   "outputs": [
    {
     "data": {
      "text/plain": [
       "event_time\n",
       "2019-12-27 00:00:08     1.0\n",
       "2019-12-27 00:00:12     2.0\n",
       "2019-12-27 00:00:31     3.0\n",
       "2019-12-27 00:00:32     4.0\n",
       "2019-12-27 00:00:33     5.0\n",
       "                       ... \n",
       "2019-12-31 23:58:17    91.0\n",
       "2019-12-31 23:58:28    92.0\n",
       "2019-12-31 23:58:59    92.0\n",
       "2019-12-31 23:59:42    93.0\n",
       "2019-12-31 23:59:47    94.0\n",
       "Name: orderid, Length: 11703, dtype: float64"
      ]
     },
     "execution_count": 149,
     "metadata": {},
     "output_type": "execute_result"
    }
   ],
   "source": [
    "sample.orderid.rolling('1H', closed='both').count()"
   ]
  },
  {
   "cell_type": "code",
   "execution_count": 56,
   "metadata": {},
   "outputs": [],
   "source": [
    "c_rate = concentrate(sample)"
   ]
  },
  {
   "cell_type": "code",
   "execution_count": 57,
   "metadata": {},
   "outputs": [
    {
     "name": "stderr",
     "output_type": "stream",
     "text": [
      "C:\\ProgramData\\Anaconda3\\lib\\site-packages\\ipykernel_launcher.py:1: SettingWithCopyWarning: \n",
      "A value is trying to be set on a copy of a slice from a DataFrame.\n",
      "Try using .loc[row_indexer,col_indexer] = value instead\n",
      "\n",
      "See the caveats in the documentation: https://pandas.pydata.org/pandas-docs/stable/user_guide/indexing.html#returning-a-view-versus-a-copy\n",
      "  \"\"\"Entry point for launching an IPython kernel.\n"
     ]
    }
   ],
   "source": [
    "sample['c_rate'] = list(concentrate(sample))"
   ]
  },
  {
   "cell_type": "code",
   "execution_count": 58,
   "metadata": {},
   "outputs": [],
   "source": [
    "brush_index = sample.loc[sample.c_rate>=3].index"
   ]
  },
  {
   "cell_type": "code",
   "execution_count": 60,
   "metadata": {},
   "outputs": [],
   "source": [
    "sample = pd.concat([sample.loc[(i-pd.Timedelta('1H')):i] for i in brush_index]).sort_index()"
   ]
  },
  {
   "cell_type": "code",
   "execution_count": 61,
   "metadata": {},
   "outputs": [
    {
     "data": {
      "text/html": [
       "<div>\n",
       "<style scoped>\n",
       "    .dataframe tbody tr th:only-of-type {\n",
       "        vertical-align: middle;\n",
       "    }\n",
       "\n",
       "    .dataframe tbody tr th {\n",
       "        vertical-align: top;\n",
       "    }\n",
       "\n",
       "    .dataframe thead th {\n",
       "        text-align: right;\n",
       "    }\n",
       "</style>\n",
       "<table border=\"1\" class=\"dataframe\">\n",
       "  <thead>\n",
       "    <tr style=\"text-align: right;\">\n",
       "      <th></th>\n",
       "      <th>orderid</th>\n",
       "      <th>shopid</th>\n",
       "      <th>userid</th>\n",
       "      <th>c_rate</th>\n",
       "    </tr>\n",
       "    <tr>\n",
       "      <th>event_time</th>\n",
       "      <th></th>\n",
       "      <th></th>\n",
       "      <th></th>\n",
       "      <th></th>\n",
       "    </tr>\n",
       "  </thead>\n",
       "  <tbody>\n",
       "    <tr>\n",
       "      <th>2019-12-27 00:20:33</th>\n",
       "      <td>31076433523765</td>\n",
       "      <td>181009364</td>\n",
       "      <td>214208720</td>\n",
       "      <td>1.0</td>\n",
       "    </tr>\n",
       "    <tr>\n",
       "      <th>2019-12-27 00:30:03</th>\n",
       "      <td>31077003494175</td>\n",
       "      <td>181009364</td>\n",
       "      <td>214208720</td>\n",
       "      <td>2.0</td>\n",
       "    </tr>\n",
       "    <tr>\n",
       "      <th>2019-12-27 00:53:26</th>\n",
       "      <td>31078405144719</td>\n",
       "      <td>181009364</td>\n",
       "      <td>214208720</td>\n",
       "      <td>3.0</td>\n",
       "    </tr>\n",
       "    <tr>\n",
       "      <th>2019-12-29 13:54:31</th>\n",
       "      <td>31298070356347</td>\n",
       "      <td>181009364</td>\n",
       "      <td>101832161</td>\n",
       "      <td>1.0</td>\n",
       "    </tr>\n",
       "    <tr>\n",
       "      <th>2019-12-29 13:54:52</th>\n",
       "      <td>31298092385907</td>\n",
       "      <td>181009364</td>\n",
       "      <td>101832161</td>\n",
       "      <td>2.0</td>\n",
       "    </tr>\n",
       "    <tr>\n",
       "      <th>2019-12-29 13:55:51</th>\n",
       "      <td>31298150262970</td>\n",
       "      <td>181009364</td>\n",
       "      <td>101832161</td>\n",
       "      <td>3.0</td>\n",
       "    </tr>\n",
       "  </tbody>\n",
       "</table>\n",
       "</div>"
      ],
      "text/plain": [
       "                            orderid     shopid     userid  c_rate\n",
       "event_time                                                       \n",
       "2019-12-27 00:20:33  31076433523765  181009364  214208720     1.0\n",
       "2019-12-27 00:30:03  31077003494175  181009364  214208720     2.0\n",
       "2019-12-27 00:53:26  31078405144719  181009364  214208720     3.0\n",
       "2019-12-29 13:54:31  31298070356347  181009364  101832161     1.0\n",
       "2019-12-29 13:54:52  31298092385907  181009364  101832161     2.0\n",
       "2019-12-29 13:55:51  31298150262970  181009364  101832161     3.0"
      ]
     },
     "execution_count": 61,
     "metadata": {},
     "output_type": "execute_result"
    }
   ],
   "source": [
    "sample"
   ]
  },
  {
   "cell_type": "code",
   "execution_count": 68,
   "metadata": {},
   "outputs": [],
   "source": [
    "prop= sample.groupby(by=['userid']).orderid.count()#.reset_index().groupby(by='userid').orderid.sum()"
   ]
  },
  {
   "cell_type": "code",
   "execution_count": 69,
   "metadata": {},
   "outputs": [
    {
     "data": {
      "text/plain": [
       "[101832161, 214208720]"
      ]
     },
     "execution_count": 69,
     "metadata": {},
     "output_type": "execute_result"
    }
   ],
   "source": [
    "list(np.sort(list(prop[prop==prop.max()].index)))"
   ]
  },
  {
   "cell_type": "code",
   "execution_count": 172,
   "metadata": {},
   "outputs": [
    {
     "ename": "KeyboardInterrupt",
     "evalue": "",
     "output_type": "error",
     "traceback": [
      "\u001b[1;31m---------------------------------------------------------------------------\u001b[0m",
      "\u001b[1;31mKeyboardInterrupt\u001b[0m                         Traceback (most recent call last)",
      "\u001b[1;32m<timed exec>\u001b[0m in \u001b[0;36m<module>\u001b[1;34m\u001b[0m\n",
      "\u001b[1;32mC:\\ProgramData\\Anaconda3\\lib\\site-packages\\pandas\\core\\series.py\u001b[0m in \u001b[0;36mapply\u001b[1;34m(self, func, convert_dtype, args, **kwds)\u001b[0m\n\u001b[0;32m   3846\u001b[0m             \u001b[1;32melse\u001b[0m\u001b[1;33m:\u001b[0m\u001b[1;33m\u001b[0m\u001b[1;33m\u001b[0m\u001b[0m\n\u001b[0;32m   3847\u001b[0m                 \u001b[0mvalues\u001b[0m \u001b[1;33m=\u001b[0m \u001b[0mself\u001b[0m\u001b[1;33m.\u001b[0m\u001b[0mastype\u001b[0m\u001b[1;33m(\u001b[0m\u001b[0mobject\u001b[0m\u001b[1;33m)\u001b[0m\u001b[1;33m.\u001b[0m\u001b[0mvalues\u001b[0m\u001b[1;33m\u001b[0m\u001b[1;33m\u001b[0m\u001b[0m\n\u001b[1;32m-> 3848\u001b[1;33m                 \u001b[0mmapped\u001b[0m \u001b[1;33m=\u001b[0m \u001b[0mlib\u001b[0m\u001b[1;33m.\u001b[0m\u001b[0mmap_infer\u001b[0m\u001b[1;33m(\u001b[0m\u001b[0mvalues\u001b[0m\u001b[1;33m,\u001b[0m \u001b[0mf\u001b[0m\u001b[1;33m,\u001b[0m \u001b[0mconvert\u001b[0m\u001b[1;33m=\u001b[0m\u001b[0mconvert_dtype\u001b[0m\u001b[1;33m)\u001b[0m\u001b[1;33m\u001b[0m\u001b[1;33m\u001b[0m\u001b[0m\n\u001b[0m\u001b[0;32m   3849\u001b[0m \u001b[1;33m\u001b[0m\u001b[0m\n\u001b[0;32m   3850\u001b[0m         \u001b[1;32mif\u001b[0m \u001b[0mlen\u001b[0m\u001b[1;33m(\u001b[0m\u001b[0mmapped\u001b[0m\u001b[1;33m)\u001b[0m \u001b[1;32mand\u001b[0m \u001b[0misinstance\u001b[0m\u001b[1;33m(\u001b[0m\u001b[0mmapped\u001b[0m\u001b[1;33m[\u001b[0m\u001b[1;36m0\u001b[0m\u001b[1;33m]\u001b[0m\u001b[1;33m,\u001b[0m \u001b[0mSeries\u001b[0m\u001b[1;33m)\u001b[0m\u001b[1;33m:\u001b[0m\u001b[1;33m\u001b[0m\u001b[1;33m\u001b[0m\u001b[0m\n",
      "\u001b[1;32mpandas\\_libs\\lib.pyx\u001b[0m in \u001b[0;36mpandas._libs.lib.map_infer\u001b[1;34m()\u001b[0m\n",
      "\u001b[1;32m<ipython-input-171-801afca84c1a>\u001b[0m in \u001b[0;36mget_order_brushing_user\u001b[1;34m(shopid)\u001b[0m\n\u001b[0;32m      3\u001b[0m \u001b[1;33m\u001b[0m\u001b[0m\n\u001b[0;32m      4\u001b[0m \u001b[1;32mdef\u001b[0m \u001b[0mget_order_brushing_user\u001b[0m\u001b[1;33m(\u001b[0m\u001b[0mshopid\u001b[0m\u001b[1;33m)\u001b[0m\u001b[1;33m:\u001b[0m\u001b[1;33m\u001b[0m\u001b[1;33m\u001b[0m\u001b[0m\n\u001b[1;32m----> 5\u001b[1;33m     \u001b[0msample\u001b[0m \u001b[1;33m=\u001b[0m \u001b[0mdf\u001b[0m\u001b[1;33m.\u001b[0m\u001b[0mloc\u001b[0m\u001b[1;33m[\u001b[0m\u001b[0mdf\u001b[0m\u001b[1;33m.\u001b[0m\u001b[0mshopid\u001b[0m\u001b[1;33m==\u001b[0m\u001b[0mshopid\u001b[0m\u001b[1;33m]\u001b[0m\u001b[1;33m.\u001b[0m\u001b[0mcopy\u001b[0m\u001b[1;33m(\u001b[0m\u001b[0mdeep\u001b[0m\u001b[1;33m=\u001b[0m\u001b[1;32mTrue\u001b[0m\u001b[1;33m)\u001b[0m\u001b[1;33m\u001b[0m\u001b[1;33m\u001b[0m\u001b[0m\n\u001b[0m\u001b[0;32m      6\u001b[0m     \u001b[0msample\u001b[0m \u001b[1;33m=\u001b[0m \u001b[0msample\u001b[0m\u001b[1;33m.\u001b[0m\u001b[0mgroupby\u001b[0m\u001b[1;33m(\u001b[0m\u001b[0mby\u001b[0m\u001b[1;33m=\u001b[0m\u001b[1;34m'event_time'\u001b[0m\u001b[1;33m)\u001b[0m\u001b[1;33m.\u001b[0m\u001b[0magg\u001b[0m\u001b[1;33m(\u001b[0m\u001b[1;33m{\u001b[0m\u001b[1;34m\"orderid\"\u001b[0m\u001b[1;33m:\u001b[0m\u001b[1;34m\"count\"\u001b[0m\u001b[1;33m,\u001b[0m\u001b[1;34m\"userid\"\u001b[0m\u001b[1;33m:\u001b[0m\u001b[1;34m\"count\"\u001b[0m\u001b[1;33m}\u001b[0m\u001b[1;33m)\u001b[0m\u001b[1;33m\u001b[0m\u001b[1;33m\u001b[0m\u001b[0m\n\u001b[0;32m      7\u001b[0m     \u001b[0mc_rate\u001b[0m \u001b[1;33m=\u001b[0m \u001b[0mconcentrate\u001b[0m\u001b[1;33m(\u001b[0m\u001b[0msample\u001b[0m\u001b[1;33m)\u001b[0m\u001b[1;33m\u001b[0m\u001b[1;33m\u001b[0m\u001b[0m\n",
      "\u001b[1;32mC:\\ProgramData\\Anaconda3\\lib\\site-packages\\pandas\\core\\ops\\common.py\u001b[0m in \u001b[0;36mnew_method\u001b[1;34m(self, other)\u001b[0m\n\u001b[0;32m     62\u001b[0m         \u001b[0mother\u001b[0m \u001b[1;33m=\u001b[0m \u001b[0mitem_from_zerodim\u001b[0m\u001b[1;33m(\u001b[0m\u001b[0mother\u001b[0m\u001b[1;33m)\u001b[0m\u001b[1;33m\u001b[0m\u001b[1;33m\u001b[0m\u001b[0m\n\u001b[0;32m     63\u001b[0m \u001b[1;33m\u001b[0m\u001b[0m\n\u001b[1;32m---> 64\u001b[1;33m         \u001b[1;32mreturn\u001b[0m \u001b[0mmethod\u001b[0m\u001b[1;33m(\u001b[0m\u001b[0mself\u001b[0m\u001b[1;33m,\u001b[0m \u001b[0mother\u001b[0m\u001b[1;33m)\u001b[0m\u001b[1;33m\u001b[0m\u001b[1;33m\u001b[0m\u001b[0m\n\u001b[0m\u001b[0;32m     65\u001b[0m \u001b[1;33m\u001b[0m\u001b[0m\n\u001b[0;32m     66\u001b[0m     \u001b[1;32mreturn\u001b[0m \u001b[0mnew_method\u001b[0m\u001b[1;33m\u001b[0m\u001b[1;33m\u001b[0m\u001b[0m\n",
      "\u001b[1;32mC:\\ProgramData\\Anaconda3\\lib\\site-packages\\pandas\\core\\ops\\__init__.py\u001b[0m in \u001b[0;36mwrapper\u001b[1;34m(self, other)\u001b[0m\n\u001b[0;32m    527\u001b[0m         \u001b[0mrvalues\u001b[0m \u001b[1;33m=\u001b[0m \u001b[0mextract_array\u001b[0m\u001b[1;33m(\u001b[0m\u001b[0mother\u001b[0m\u001b[1;33m,\u001b[0m \u001b[0mextract_numpy\u001b[0m\u001b[1;33m=\u001b[0m\u001b[1;32mTrue\u001b[0m\u001b[1;33m)\u001b[0m\u001b[1;33m\u001b[0m\u001b[1;33m\u001b[0m\u001b[0m\n\u001b[0;32m    528\u001b[0m \u001b[1;33m\u001b[0m\u001b[0m\n\u001b[1;32m--> 529\u001b[1;33m         \u001b[0mres_values\u001b[0m \u001b[1;33m=\u001b[0m \u001b[0mcomparison_op\u001b[0m\u001b[1;33m(\u001b[0m\u001b[0mlvalues\u001b[0m\u001b[1;33m,\u001b[0m \u001b[0mrvalues\u001b[0m\u001b[1;33m,\u001b[0m \u001b[0mop\u001b[0m\u001b[1;33m)\u001b[0m\u001b[1;33m\u001b[0m\u001b[1;33m\u001b[0m\u001b[0m\n\u001b[0m\u001b[0;32m    530\u001b[0m \u001b[1;33m\u001b[0m\u001b[0m\n\u001b[0;32m    531\u001b[0m         \u001b[1;32mreturn\u001b[0m \u001b[0m_construct_result\u001b[0m\u001b[1;33m(\u001b[0m\u001b[0mself\u001b[0m\u001b[1;33m,\u001b[0m \u001b[0mres_values\u001b[0m\u001b[1;33m,\u001b[0m \u001b[0mindex\u001b[0m\u001b[1;33m=\u001b[0m\u001b[0mself\u001b[0m\u001b[1;33m.\u001b[0m\u001b[0mindex\u001b[0m\u001b[1;33m,\u001b[0m \u001b[0mname\u001b[0m\u001b[1;33m=\u001b[0m\u001b[0mres_name\u001b[0m\u001b[1;33m)\u001b[0m\u001b[1;33m\u001b[0m\u001b[1;33m\u001b[0m\u001b[0m\n",
      "\u001b[1;32mC:\\ProgramData\\Anaconda3\\lib\\site-packages\\pandas\\core\\ops\\array_ops.py\u001b[0m in \u001b[0;36mcomparison_op\u001b[1;34m(left, right, op)\u001b[0m\n\u001b[0;32m    251\u001b[0m         \u001b[0mmethod\u001b[0m \u001b[1;33m=\u001b[0m \u001b[0mgetattr\u001b[0m\u001b[1;33m(\u001b[0m\u001b[0mlvalues\u001b[0m\u001b[1;33m,\u001b[0m \u001b[0mop_name\u001b[0m\u001b[1;33m)\u001b[0m\u001b[1;33m\u001b[0m\u001b[1;33m\u001b[0m\u001b[0m\n\u001b[0;32m    252\u001b[0m         \u001b[1;32mwith\u001b[0m \u001b[0mnp\u001b[0m\u001b[1;33m.\u001b[0m\u001b[0merrstate\u001b[0m\u001b[1;33m(\u001b[0m\u001b[0mall\u001b[0m\u001b[1;33m=\u001b[0m\u001b[1;34m\"ignore\"\u001b[0m\u001b[1;33m)\u001b[0m\u001b[1;33m:\u001b[0m\u001b[1;33m\u001b[0m\u001b[1;33m\u001b[0m\u001b[0m\n\u001b[1;32m--> 253\u001b[1;33m             \u001b[0mres_values\u001b[0m \u001b[1;33m=\u001b[0m \u001b[0mmethod\u001b[0m\u001b[1;33m(\u001b[0m\u001b[0mrvalues\u001b[0m\u001b[1;33m)\u001b[0m\u001b[1;33m\u001b[0m\u001b[1;33m\u001b[0m\u001b[0m\n\u001b[0m\u001b[0;32m    254\u001b[0m \u001b[1;33m\u001b[0m\u001b[0m\n\u001b[0;32m    255\u001b[0m         \u001b[1;32mif\u001b[0m \u001b[0mres_values\u001b[0m \u001b[1;32mis\u001b[0m \u001b[0mNotImplemented\u001b[0m\u001b[1;33m:\u001b[0m\u001b[1;33m\u001b[0m\u001b[1;33m\u001b[0m\u001b[0m\n",
      "\u001b[1;31mKeyboardInterrupt\u001b[0m: "
     ]
    }
   ],
   "source": [
    "%time brushing = pd.Series(df.shopid.unique()).apply(get_order_brushing_user)"
   ]
  },
  {
   "cell_type": "code",
   "execution_count": 127,
   "metadata": {},
   "outputs": [
    {
     "data": {
      "text/plain": [
       "[[5307816, 214808165],\n",
       " [101832161, 214208720],\n",
       " [1974334, 107414154],\n",
       " [29857724, 212200633],\n",
       " [35639374, 159315857],\n",
       " [187697407, 215009429]]"
      ]
     },
     "execution_count": 127,
     "metadata": {},
     "output_type": "execute_result"
    }
   ],
   "source": [
    "[i for i in brushing[brushing!=0] if len(i)>1]"
   ]
  },
  {
   "cell_type": "code",
   "execution_count": 173,
   "metadata": {},
   "outputs": [],
   "source": [
    "brushing[brushing!=0] = list(['&'.join([str(j) for j in i]) for i in brushing[brushing!=0]])"
   ]
  },
  {
   "cell_type": "code",
   "execution_count": 174,
   "metadata": {},
   "outputs": [],
   "source": [
    "prev = pd.read_csv(\"31GB_raven4.csv\").set_index('shopid')"
   ]
  },
  {
   "cell_type": "code",
   "execution_count": 175,
   "metadata": {},
   "outputs": [],
   "source": [
    "pd.DataFrame({\"shopid\":df.shopid.unique(), \"userid\":brushing}).set_index(\"shopid\").to_csv(\"31GB_raven4.csv\")"
   ]
  },
  {
   "cell_type": "code",
   "execution_count": 96,
   "metadata": {},
   "outputs": [
    {
     "data": {
      "text/plain": [
       "shopid\n",
       "68862371      67554410\n",
       "27476241     174145893\n",
       "192608876    213646699\n",
       "10402            77819\n",
       "114919380    117199298\n",
       "               ...    \n",
       "203070501    189834273\n",
       "156995951    204919399\n",
       "129113839    215408773\n",
       "123401085     12869645\n",
       "155016230    188431260\n",
       "Name: userid, Length: 264, dtype: object"
      ]
     },
     "execution_count": 96,
     "metadata": {},
     "output_type": "execute_result"
    }
   ],
   "source": [
    "pdf.userid[pdf.userid!=0]"
   ]
  },
  {
   "cell_type": "code",
   "execution_count": 103,
   "metadata": {},
   "outputs": [],
   "source": [
    "prev.userid = prev.userid.replace('0',0)"
   ]
  },
  {
   "cell_type": "code",
   "execution_count": 106,
   "metadata": {},
   "outputs": [
    {
     "data": {
      "text/plain": [
       "18770"
      ]
     },
     "execution_count": 106,
     "metadata": {},
     "output_type": "execute_result"
    }
   ],
   "source": [
    "sum([prev.userid.iloc[i] == pdf.userid.iloc[i] for i in range(len(pdf))])"
   ]
  },
  {
   "cell_type": "code",
   "execution_count": 201,
   "metadata": {},
   "outputs": [],
   "source": [
    "sample = df[df.shopid==181009364]"
   ]
  },
  {
   "cell_type": "code",
   "execution_count": 202,
   "metadata": {},
   "outputs": [],
   "source": [
    "c_rate = concentrate(sample)"
   ]
  },
  {
   "cell_type": "code",
   "execution_count": 203,
   "metadata": {},
   "outputs": [
    {
     "name": "stderr",
     "output_type": "stream",
     "text": [
      "C:\\ProgramData\\Anaconda3\\lib\\site-packages\\ipykernel_launcher.py:1: SettingWithCopyWarning: \n",
      "A value is trying to be set on a copy of a slice from a DataFrame.\n",
      "Try using .loc[row_indexer,col_indexer] = value instead\n",
      "\n",
      "See the caveats in the documentation: https://pandas.pydata.org/pandas-docs/stable/user_guide/indexing.html#returning-a-view-versus-a-copy\n",
      "  \"\"\"Entry point for launching an IPython kernel.\n"
     ]
    }
   ],
   "source": [
    "sample['c_rate'] = list(c_rate)"
   ]
  },
  {
   "cell_type": "code",
   "execution_count": 211,
   "metadata": {},
   "outputs": [
    {
     "data": {
      "text/plain": [
       "DatetimeIndex(['2019-12-27 00:20:33', '2019-12-27 00:30:03',\n",
       "               '2019-12-27 00:53:26', '2019-12-28 01:33:18',\n",
       "               '2019-12-28 10:51:30', '2019-12-28 22:49:57',\n",
       "               '2019-12-29 00:05:30', '2019-12-29 13:54:31',\n",
       "               '2019-12-29 13:54:52', '2019-12-29 13:55:51',\n",
       "               '2019-12-30 06:58:51', '2019-12-30 16:05:56',\n",
       "               '2019-12-30 20:43:43', '2019-12-31 12:31:38',\n",
       "               '2019-12-31 13:50:08', '2019-12-31 20:05:50'],\n",
       "              dtype='datetime64[ns]', name='event_time', freq=None)"
      ]
     },
     "execution_count": 211,
     "metadata": {},
     "output_type": "execute_result"
    }
   ],
   "source": [
    "sample.index"
   ]
  },
  {
   "cell_type": "code",
   "execution_count": 210,
   "metadata": {},
   "outputs": [
    {
     "ename": "TypeError",
     "evalue": "Index does not support mutable operations",
     "output_type": "error",
     "traceback": [
      "\u001b[1;31m---------------------------------------------------------------------------\u001b[0m",
      "\u001b[1;31mTypeError\u001b[0m                                 Traceback (most recent call last)",
      "\u001b[1;32m<ipython-input-210-b844e4fd50cc>\u001b[0m in \u001b[0;36m<module>\u001b[1;34m\u001b[0m\n\u001b[1;32m----> 1\u001b[1;33m \u001b[0msample\u001b[0m\u001b[1;33m.\u001b[0m\u001b[0mindex\u001b[0m\u001b[1;33m[\u001b[0m\u001b[1;36m2\u001b[0m\u001b[1;33m]\u001b[0m \u001b[1;33m=\u001b[0m \u001b[0mpd\u001b[0m\u001b[1;33m.\u001b[0m\u001b[0mto_datetime\u001b[0m\u001b[1;33m(\u001b[0m\u001b[1;34m'2019-12-27 01:20:33'\u001b[0m\u001b[1;33m)\u001b[0m\u001b[1;33m\u001b[0m\u001b[1;33m\u001b[0m\u001b[0m\n\u001b[0m",
      "\u001b[1;32mC:\\ProgramData\\Anaconda3\\lib\\site-packages\\pandas\\core\\indexes\\base.py\u001b[0m in \u001b[0;36m__setitem__\u001b[1;34m(self, key, value)\u001b[0m\n\u001b[0;32m   3907\u001b[0m \u001b[1;33m\u001b[0m\u001b[0m\n\u001b[0;32m   3908\u001b[0m     \u001b[1;32mdef\u001b[0m \u001b[0m__setitem__\u001b[0m\u001b[1;33m(\u001b[0m\u001b[0mself\u001b[0m\u001b[1;33m,\u001b[0m \u001b[0mkey\u001b[0m\u001b[1;33m,\u001b[0m \u001b[0mvalue\u001b[0m\u001b[1;33m)\u001b[0m\u001b[1;33m:\u001b[0m\u001b[1;33m\u001b[0m\u001b[1;33m\u001b[0m\u001b[0m\n\u001b[1;32m-> 3909\u001b[1;33m         \u001b[1;32mraise\u001b[0m \u001b[0mTypeError\u001b[0m\u001b[1;33m(\u001b[0m\u001b[1;34m\"Index does not support mutable operations\"\u001b[0m\u001b[1;33m)\u001b[0m\u001b[1;33m\u001b[0m\u001b[1;33m\u001b[0m\u001b[0m\n\u001b[0m\u001b[0;32m   3910\u001b[0m \u001b[1;33m\u001b[0m\u001b[0m\n\u001b[0;32m   3911\u001b[0m     \u001b[1;32mdef\u001b[0m \u001b[0m__getitem__\u001b[0m\u001b[1;33m(\u001b[0m\u001b[0mself\u001b[0m\u001b[1;33m,\u001b[0m \u001b[0mkey\u001b[0m\u001b[1;33m)\u001b[0m\u001b[1;33m:\u001b[0m\u001b[1;33m\u001b[0m\u001b[1;33m\u001b[0m\u001b[0m\n",
      "\u001b[1;31mTypeError\u001b[0m: Index does not support mutable operations"
     ]
    }
   ],
   "source": [
    "sample.index[2] = pd.to_datetime('2019-12-27 01:20:33') "
   ]
  },
  {
   "cell_type": "code",
   "execution_count": 204,
   "metadata": {
    "cell_style": "split"
   },
   "outputs": [
    {
     "data": {
      "text/html": [
       "<div>\n",
       "<style scoped>\n",
       "    .dataframe tbody tr th:only-of-type {\n",
       "        vertical-align: middle;\n",
       "    }\n",
       "\n",
       "    .dataframe tbody tr th {\n",
       "        vertical-align: top;\n",
       "    }\n",
       "\n",
       "    .dataframe thead th {\n",
       "        text-align: right;\n",
       "    }\n",
       "</style>\n",
       "<table border=\"1\" class=\"dataframe\">\n",
       "  <thead>\n",
       "    <tr style=\"text-align: right;\">\n",
       "      <th></th>\n",
       "      <th>orderid</th>\n",
       "      <th>shopid</th>\n",
       "      <th>userid</th>\n",
       "      <th>c_rate</th>\n",
       "    </tr>\n",
       "    <tr>\n",
       "      <th>event_time</th>\n",
       "      <th></th>\n",
       "      <th></th>\n",
       "      <th></th>\n",
       "      <th></th>\n",
       "    </tr>\n",
       "  </thead>\n",
       "  <tbody>\n",
       "    <tr>\n",
       "      <th>2019-12-27 00:20:33</th>\n",
       "      <td>31076433523765</td>\n",
       "      <td>181009364</td>\n",
       "      <td>214208720</td>\n",
       "      <td>1.0</td>\n",
       "    </tr>\n",
       "    <tr>\n",
       "      <th>2019-12-27 00:30:03</th>\n",
       "      <td>31077003494175</td>\n",
       "      <td>181009364</td>\n",
       "      <td>214208720</td>\n",
       "      <td>2.0</td>\n",
       "    </tr>\n",
       "    <tr>\n",
       "      <th>2019-12-27 00:53:26</th>\n",
       "      <td>31078405144719</td>\n",
       "      <td>181009364</td>\n",
       "      <td>214208720</td>\n",
       "      <td>3.0</td>\n",
       "    </tr>\n",
       "    <tr>\n",
       "      <th>2019-12-28 01:33:18</th>\n",
       "      <td>31167197128282</td>\n",
       "      <td>181009364</td>\n",
       "      <td>27847950</td>\n",
       "      <td>1.0</td>\n",
       "    </tr>\n",
       "    <tr>\n",
       "      <th>2019-12-28 10:51:30</th>\n",
       "      <td>31200690834058</td>\n",
       "      <td>181009364</td>\n",
       "      <td>214515524</td>\n",
       "      <td>1.0</td>\n",
       "    </tr>\n",
       "    <tr>\n",
       "      <th>2019-12-28 22:49:57</th>\n",
       "      <td>31243796889716</td>\n",
       "      <td>181009364</td>\n",
       "      <td>160784036</td>\n",
       "      <td>1.0</td>\n",
       "    </tr>\n",
       "    <tr>\n",
       "      <th>2019-12-29 00:05:30</th>\n",
       "      <td>31248330354574</td>\n",
       "      <td>181009364</td>\n",
       "      <td>18028327</td>\n",
       "      <td>1.0</td>\n",
       "    </tr>\n",
       "    <tr>\n",
       "      <th>2019-12-29 13:54:31</th>\n",
       "      <td>31298070356347</td>\n",
       "      <td>181009364</td>\n",
       "      <td>101832161</td>\n",
       "      <td>1.0</td>\n",
       "    </tr>\n",
       "    <tr>\n",
       "      <th>2019-12-29 13:54:52</th>\n",
       "      <td>31298092385907</td>\n",
       "      <td>181009364</td>\n",
       "      <td>101832161</td>\n",
       "      <td>2.0</td>\n",
       "    </tr>\n",
       "    <tr>\n",
       "      <th>2019-12-29 13:55:51</th>\n",
       "      <td>31298150262970</td>\n",
       "      <td>181009364</td>\n",
       "      <td>101832161</td>\n",
       "      <td>3.0</td>\n",
       "    </tr>\n",
       "    <tr>\n",
       "      <th>2019-12-30 06:58:51</th>\n",
       "      <td>31359530425916</td>\n",
       "      <td>181009364</td>\n",
       "      <td>1646431</td>\n",
       "      <td>1.0</td>\n",
       "    </tr>\n",
       "    <tr>\n",
       "      <th>2019-12-30 16:05:56</th>\n",
       "      <td>31392356223812</td>\n",
       "      <td>181009364</td>\n",
       "      <td>213441594</td>\n",
       "      <td>1.0</td>\n",
       "    </tr>\n",
       "    <tr>\n",
       "      <th>2019-12-30 20:43:43</th>\n",
       "      <td>31409023914877</td>\n",
       "      <td>181009364</td>\n",
       "      <td>198488910</td>\n",
       "      <td>1.0</td>\n",
       "    </tr>\n",
       "    <tr>\n",
       "      <th>2019-12-31 12:31:38</th>\n",
       "      <td>31465898498833</td>\n",
       "      <td>181009364</td>\n",
       "      <td>21653103</td>\n",
       "      <td>1.0</td>\n",
       "    </tr>\n",
       "    <tr>\n",
       "      <th>2019-12-31 13:50:08</th>\n",
       "      <td>31470607300366</td>\n",
       "      <td>181009364</td>\n",
       "      <td>71990360</td>\n",
       "      <td>1.0</td>\n",
       "    </tr>\n",
       "    <tr>\n",
       "      <th>2019-12-31 20:05:50</th>\n",
       "      <td>31493150407300</td>\n",
       "      <td>181009364</td>\n",
       "      <td>153128074</td>\n",
       "      <td>1.0</td>\n",
       "    </tr>\n",
       "  </tbody>\n",
       "</table>\n",
       "</div>"
      ],
      "text/plain": [
       "                            orderid     shopid     userid  c_rate\n",
       "event_time                                                       \n",
       "2019-12-27 00:20:33  31076433523765  181009364  214208720     1.0\n",
       "2019-12-27 00:30:03  31077003494175  181009364  214208720     2.0\n",
       "2019-12-27 00:53:26  31078405144719  181009364  214208720     3.0\n",
       "2019-12-28 01:33:18  31167197128282  181009364   27847950     1.0\n",
       "2019-12-28 10:51:30  31200690834058  181009364  214515524     1.0\n",
       "2019-12-28 22:49:57  31243796889716  181009364  160784036     1.0\n",
       "2019-12-29 00:05:30  31248330354574  181009364   18028327     1.0\n",
       "2019-12-29 13:54:31  31298070356347  181009364  101832161     1.0\n",
       "2019-12-29 13:54:52  31298092385907  181009364  101832161     2.0\n",
       "2019-12-29 13:55:51  31298150262970  181009364  101832161     3.0\n",
       "2019-12-30 06:58:51  31359530425916  181009364    1646431     1.0\n",
       "2019-12-30 16:05:56  31392356223812  181009364  213441594     1.0\n",
       "2019-12-30 20:43:43  31409023914877  181009364  198488910     1.0\n",
       "2019-12-31 12:31:38  31465898498833  181009364   21653103     1.0\n",
       "2019-12-31 13:50:08  31470607300366  181009364   71990360     1.0\n",
       "2019-12-31 20:05:50  31493150407300  181009364  153128074     1.0"
      ]
     },
     "execution_count": 204,
     "metadata": {},
     "output_type": "execute_result"
    }
   ],
   "source": [
    "sample.il"
   ]
  },
  {
   "cell_type": "code",
   "execution_count": 205,
   "metadata": {
    "cell_style": "split"
   },
   "outputs": [
    {
     "data": {
      "text/html": [
       "<div>\n",
       "<style scoped>\n",
       "    .dataframe tbody tr th:only-of-type {\n",
       "        vertical-align: middle;\n",
       "    }\n",
       "\n",
       "    .dataframe tbody tr th {\n",
       "        vertical-align: top;\n",
       "    }\n",
       "\n",
       "    .dataframe thead th {\n",
       "        text-align: right;\n",
       "    }\n",
       "</style>\n",
       "<table border=\"1\" class=\"dataframe\">\n",
       "  <thead>\n",
       "    <tr style=\"text-align: right;\">\n",
       "      <th></th>\n",
       "      <th>orderid</th>\n",
       "      <th>shopid</th>\n",
       "      <th>userid</th>\n",
       "      <th>c_rate</th>\n",
       "    </tr>\n",
       "    <tr>\n",
       "      <th>event_time</th>\n",
       "      <th></th>\n",
       "      <th></th>\n",
       "      <th></th>\n",
       "      <th></th>\n",
       "    </tr>\n",
       "  </thead>\n",
       "  <tbody>\n",
       "    <tr>\n",
       "      <th>2019-12-27 00:53:26</th>\n",
       "      <td>31078405144719</td>\n",
       "      <td>181009364</td>\n",
       "      <td>214208720</td>\n",
       "      <td>3.0</td>\n",
       "    </tr>\n",
       "    <tr>\n",
       "      <th>2019-12-29 13:55:51</th>\n",
       "      <td>31298150262970</td>\n",
       "      <td>181009364</td>\n",
       "      <td>101832161</td>\n",
       "      <td>3.0</td>\n",
       "    </tr>\n",
       "  </tbody>\n",
       "</table>\n",
       "</div>"
      ],
      "text/plain": [
       "                            orderid     shopid     userid  c_rate\n",
       "event_time                                                       \n",
       "2019-12-27 00:53:26  31078405144719  181009364  214208720     3.0\n",
       "2019-12-29 13:55:51  31298150262970  181009364  101832161     3.0"
      ]
     },
     "execution_count": 205,
     "metadata": {},
     "output_type": "execute_result"
    }
   ],
   "source": [
    "sample[sample.c_rate>=3]"
   ]
  },
  {
   "cell_type": "code",
   "execution_count": 207,
   "metadata": {},
   "outputs": [
    {
     "data": {
      "text/html": [
       "<div>\n",
       "<style scoped>\n",
       "    .dataframe tbody tr th:only-of-type {\n",
       "        vertical-align: middle;\n",
       "    }\n",
       "\n",
       "    .dataframe tbody tr th {\n",
       "        vertical-align: top;\n",
       "    }\n",
       "\n",
       "    .dataframe thead th {\n",
       "        text-align: right;\n",
       "    }\n",
       "</style>\n",
       "<table border=\"1\" class=\"dataframe\">\n",
       "  <thead>\n",
       "    <tr style=\"text-align: right;\">\n",
       "      <th></th>\n",
       "      <th>orderid</th>\n",
       "      <th>shopid</th>\n",
       "      <th>userid</th>\n",
       "      <th>c_rate</th>\n",
       "    </tr>\n",
       "    <tr>\n",
       "      <th>event_time</th>\n",
       "      <th></th>\n",
       "      <th></th>\n",
       "      <th></th>\n",
       "      <th></th>\n",
       "    </tr>\n",
       "  </thead>\n",
       "  <tbody>\n",
       "    <tr>\n",
       "      <th>2019-12-27 00:20:33</th>\n",
       "      <td>31076433523765</td>\n",
       "      <td>181009364</td>\n",
       "      <td>214208720</td>\n",
       "      <td>1.0</td>\n",
       "    </tr>\n",
       "    <tr>\n",
       "      <th>2019-12-27 00:30:03</th>\n",
       "      <td>31077003494175</td>\n",
       "      <td>181009364</td>\n",
       "      <td>214208720</td>\n",
       "      <td>2.0</td>\n",
       "    </tr>\n",
       "    <tr>\n",
       "      <th>2019-12-27 00:53:26</th>\n",
       "      <td>31078405144719</td>\n",
       "      <td>181009364</td>\n",
       "      <td>214208720</td>\n",
       "      <td>3.0</td>\n",
       "    </tr>\n",
       "    <tr>\n",
       "      <th>2019-12-28 01:33:18</th>\n",
       "      <td>31167197128282</td>\n",
       "      <td>181009364</td>\n",
       "      <td>27847950</td>\n",
       "      <td>1.0</td>\n",
       "    </tr>\n",
       "    <tr>\n",
       "      <th>2019-12-28 10:51:30</th>\n",
       "      <td>31200690834058</td>\n",
       "      <td>181009364</td>\n",
       "      <td>214515524</td>\n",
       "      <td>1.0</td>\n",
       "    </tr>\n",
       "    <tr>\n",
       "      <th>2019-12-28 22:49:57</th>\n",
       "      <td>31243796889716</td>\n",
       "      <td>181009364</td>\n",
       "      <td>160784036</td>\n",
       "      <td>1.0</td>\n",
       "    </tr>\n",
       "    <tr>\n",
       "      <th>2019-12-29 00:05:30</th>\n",
       "      <td>31248330354574</td>\n",
       "      <td>181009364</td>\n",
       "      <td>18028327</td>\n",
       "      <td>1.0</td>\n",
       "    </tr>\n",
       "    <tr>\n",
       "      <th>2019-12-29 13:54:31</th>\n",
       "      <td>31298070356347</td>\n",
       "      <td>181009364</td>\n",
       "      <td>101832161</td>\n",
       "      <td>1.0</td>\n",
       "    </tr>\n",
       "    <tr>\n",
       "      <th>2019-12-29 13:54:52</th>\n",
       "      <td>31298092385907</td>\n",
       "      <td>181009364</td>\n",
       "      <td>101832161</td>\n",
       "      <td>2.0</td>\n",
       "    </tr>\n",
       "    <tr>\n",
       "      <th>2019-12-29 13:55:51</th>\n",
       "      <td>31298150262970</td>\n",
       "      <td>181009364</td>\n",
       "      <td>101832161</td>\n",
       "      <td>3.0</td>\n",
       "    </tr>\n",
       "    <tr>\n",
       "      <th>2019-12-30 06:58:51</th>\n",
       "      <td>31359530425916</td>\n",
       "      <td>181009364</td>\n",
       "      <td>1646431</td>\n",
       "      <td>1.0</td>\n",
       "    </tr>\n",
       "    <tr>\n",
       "      <th>2019-12-30 16:05:56</th>\n",
       "      <td>31392356223812</td>\n",
       "      <td>181009364</td>\n",
       "      <td>213441594</td>\n",
       "      <td>1.0</td>\n",
       "    </tr>\n",
       "    <tr>\n",
       "      <th>2019-12-30 20:43:43</th>\n",
       "      <td>31409023914877</td>\n",
       "      <td>181009364</td>\n",
       "      <td>198488910</td>\n",
       "      <td>1.0</td>\n",
       "    </tr>\n",
       "    <tr>\n",
       "      <th>2019-12-31 12:31:38</th>\n",
       "      <td>31465898498833</td>\n",
       "      <td>181009364</td>\n",
       "      <td>21653103</td>\n",
       "      <td>1.0</td>\n",
       "    </tr>\n",
       "    <tr>\n",
       "      <th>2019-12-31 13:50:08</th>\n",
       "      <td>31470607300366</td>\n",
       "      <td>181009364</td>\n",
       "      <td>71990360</td>\n",
       "      <td>1.0</td>\n",
       "    </tr>\n",
       "    <tr>\n",
       "      <th>2019-12-31 20:05:50</th>\n",
       "      <td>31493150407300</td>\n",
       "      <td>181009364</td>\n",
       "      <td>153128074</td>\n",
       "      <td>1.0</td>\n",
       "    </tr>\n",
       "  </tbody>\n",
       "</table>\n",
       "</div>"
      ],
      "text/plain": [
       "                            orderid     shopid     userid  c_rate\n",
       "event_time                                                       \n",
       "2019-12-27 00:20:33  31076433523765  181009364  214208720     1.0\n",
       "2019-12-27 00:30:03  31077003494175  181009364  214208720     2.0\n",
       "2019-12-27 00:53:26  31078405144719  181009364  214208720     3.0\n",
       "2019-12-28 01:33:18  31167197128282  181009364   27847950     1.0\n",
       "2019-12-28 10:51:30  31200690834058  181009364  214515524     1.0\n",
       "2019-12-28 22:49:57  31243796889716  181009364  160784036     1.0\n",
       "2019-12-29 00:05:30  31248330354574  181009364   18028327     1.0\n",
       "2019-12-29 13:54:31  31298070356347  181009364  101832161     1.0\n",
       "2019-12-29 13:54:52  31298092385907  181009364  101832161     2.0\n",
       "2019-12-29 13:55:51  31298150262970  181009364  101832161     3.0\n",
       "2019-12-30 06:58:51  31359530425916  181009364    1646431     1.0\n",
       "2019-12-30 16:05:56  31392356223812  181009364  213441594     1.0\n",
       "2019-12-30 20:43:43  31409023914877  181009364  198488910     1.0\n",
       "2019-12-31 12:31:38  31465898498833  181009364   21653103     1.0\n",
       "2019-12-31 13:50:08  31470607300366  181009364   71990360     1.0\n",
       "2019-12-31 20:05:50  31493150407300  181009364  153128074     1.0"
      ]
     },
     "execution_count": 207,
     "metadata": {},
     "output_type": "execute_result"
    }
   ],
   "source": [
    "sample"
   ]
  },
  {
   "cell_type": "code",
   "execution_count": 110,
   "metadata": {},
   "outputs": [],
   "source": [
    "x = ['2019-12-31 20:05:50', '2019-12-31 21:05:49', '2019-12-31 21:05:50']"
   ]
  },
  {
   "cell_type": "code",
   "execution_count": 112,
   "metadata": {},
   "outputs": [],
   "source": [
    "y = pd.DataFrame({'y':[1,1,1]}, index=x)"
   ]
  },
  {
   "cell_type": "code",
   "execution_count": 114,
   "metadata": {},
   "outputs": [],
   "source": [
    "y.index = pd.to_datetime(y.index)"
   ]
  },
  {
   "cell_type": "code",
   "execution_count": 115,
   "metadata": {},
   "outputs": [
    {
     "data": {
      "text/html": [
       "<div>\n",
       "<style scoped>\n",
       "    .dataframe tbody tr th:only-of-type {\n",
       "        vertical-align: middle;\n",
       "    }\n",
       "\n",
       "    .dataframe tbody tr th {\n",
       "        vertical-align: top;\n",
       "    }\n",
       "\n",
       "    .dataframe thead th {\n",
       "        text-align: right;\n",
       "    }\n",
       "</style>\n",
       "<table border=\"1\" class=\"dataframe\">\n",
       "  <thead>\n",
       "    <tr style=\"text-align: right;\">\n",
       "      <th></th>\n",
       "      <th>y</th>\n",
       "    </tr>\n",
       "  </thead>\n",
       "  <tbody>\n",
       "    <tr>\n",
       "      <th>2019-12-31 20:05:50</th>\n",
       "      <td>1</td>\n",
       "    </tr>\n",
       "    <tr>\n",
       "      <th>2019-12-31 21:05:49</th>\n",
       "      <td>1</td>\n",
       "    </tr>\n",
       "    <tr>\n",
       "      <th>2019-12-31 21:05:50</th>\n",
       "      <td>1</td>\n",
       "    </tr>\n",
       "  </tbody>\n",
       "</table>\n",
       "</div>"
      ],
      "text/plain": [
       "                     y\n",
       "2019-12-31 20:05:50  1\n",
       "2019-12-31 21:05:49  1\n",
       "2019-12-31 21:05:50  1"
      ]
     },
     "execution_count": 115,
     "metadata": {},
     "output_type": "execute_result"
    }
   ],
   "source": [
    "y"
   ]
  },
  {
   "cell_type": "code",
   "execution_count": 117,
   "metadata": {},
   "outputs": [
    {
     "data": {
      "text/html": [
       "<div>\n",
       "<style scoped>\n",
       "    .dataframe tbody tr th:only-of-type {\n",
       "        vertical-align: middle;\n",
       "    }\n",
       "\n",
       "    .dataframe tbody tr th {\n",
       "        vertical-align: top;\n",
       "    }\n",
       "\n",
       "    .dataframe thead th {\n",
       "        text-align: right;\n",
       "    }\n",
       "</style>\n",
       "<table border=\"1\" class=\"dataframe\">\n",
       "  <thead>\n",
       "    <tr style=\"text-align: right;\">\n",
       "      <th></th>\n",
       "      <th>y</th>\n",
       "    </tr>\n",
       "  </thead>\n",
       "  <tbody>\n",
       "    <tr>\n",
       "      <th>2019-12-31 20:05:50</th>\n",
       "      <td>1.0</td>\n",
       "    </tr>\n",
       "    <tr>\n",
       "      <th>2019-12-31 21:05:49</th>\n",
       "      <td>2.0</td>\n",
       "    </tr>\n",
       "    <tr>\n",
       "      <th>2019-12-31 21:05:50</th>\n",
       "      <td>2.0</td>\n",
       "    </tr>\n",
       "  </tbody>\n",
       "</table>\n",
       "</div>"
      ],
      "text/plain": [
       "                       y\n",
       "2019-12-31 20:05:50  1.0\n",
       "2019-12-31 21:05:49  2.0\n",
       "2019-12-31 21:05:50  2.0"
      ]
     },
     "execution_count": 117,
     "metadata": {},
     "output_type": "execute_result"
    }
   ],
   "source": [
    "y.sort_index().rolling(window='1H', ).sum()"
   ]
  }
 ],
 "metadata": {
  "kernelspec": {
   "display_name": "Python 3",
   "language": "python",
   "name": "python3"
  },
  "language_info": {
   "codemirror_mode": {
    "name": "ipython",
    "version": 3
   },
   "file_extension": ".py",
   "mimetype": "text/x-python",
   "name": "python",
   "nbconvert_exporter": "python",
   "pygments_lexer": "ipython3",
   "version": "3.7.1"
  },
  "toc": {
   "base_numbering": 1,
   "nav_menu": {},
   "number_sections": true,
   "sideBar": true,
   "skip_h1_title": false,
   "title_cell": "Table of Contents",
   "title_sidebar": "Contents",
   "toc_cell": false,
   "toc_position": {},
   "toc_section_display": true,
   "toc_window_display": false
  }
 },
 "nbformat": 4,
 "nbformat_minor": 4
}
